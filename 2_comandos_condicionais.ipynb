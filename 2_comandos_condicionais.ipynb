{
 "cells": [
  {
   "cell_type": "markdown",
   "metadata": {
    "id": "jTBZ5hxpCuM3"
   },
   "source": [
    "# Comandos condicionais ou de decisão\n",
    "---"
   ]
  },
  {
   "cell_type": "markdown",
   "metadata": {
    "id": "IbhvWGUaUpVA"
   },
   "source": [
    "Comandos condicionais ou de decisão permitem alterar o fluxo do algoritmo baseado em certas condições.\n",
    "\n",
    "Os comandos condicionais avaliam expressões booleanas (valores booleanos, variáveis do tipo `bool`, expressões relacionais ou lógicas)."
   ]
  },
  {
   "cell_type": "markdown",
   "metadata": {
    "id": "Hvj5tVqk2Fys"
   },
   "source": [
    "## if (se)\n",
    "---\n"
   ]
  },
  {
   "cell_type": "markdown",
   "metadata": {
    "id": "04s6zLJP0NWo"
   },
   "source": [
    "O comando `if` segue a seguinte sintaxe.\n",
    "\n",
    "```python\n",
    "if expressao_booleana:\n",
    "    # Código recuado (indentado) que será executado apenas se a expressao_booleana for avaliada como verdadeira\n",
    "# Código que será executado após condicional (seja verdadeira ou falsa)\n"
   ]
  },
  {
   "cell_type": "markdown",
   "metadata": {
    "id": "zKZAYQ163ZFx"
   },
   "source": [
    "Note que ao usar o comando `if` cria-se um bloco de código (pode ser uma ou mais linhas) que deve estar recuado a partir do alinhamento do comando `if`. Dizemos que esse bloco é de escopo local, definido pela condicional, e que sua execução está condicionada à a valiação da expressão booleana repassada.\n",
    "\n",
    "**Importante** notar que o bloco de comandos deve possuir uma indentação padronizada para que o interpretador da linguagem Python o reconheça."
   ]
  },
  {
   "cell_type": "code",
   "execution_count": null,
   "metadata": {
    "id": "snIdFUQ71d82"
   },
   "outputs": [],
   "source": [
    "valor = 10.25\n",
    "desconto = False\n",
    "if desconto:\n",
    "    valor = valor * 0.9 # Aplica 10% de desconto no valor\n",
    "print(f\"O valor final do produto é de R${valor}\")\n",
    "desconto = True\n",
    "if desconto:\n",
    "    valor = valor * 0.9\n",
    "print(f\"O valor final do produto é de R${valor}\")"
   ]
  },
  {
   "cell_type": "code",
   "execution_count": null,
   "metadata": {
    "id": "JxDC3q_5ZACF"
   },
   "outputs": [],
   "source": [
    "num = int(input(\"Digite um número inteiro: \"))\n",
    "if num % 2 == 0:\n",
    "    print(\"O número é múltiplo de 2\")\n",
    "if num % 3 == 0:\n",
    "    print(\"O número é múltiplo de 3\")\n",
    "if num % 4 == 0:\n",
    "    print(\"O número é múltiplo de 4\")\n",
    "if num % 5 == 0:\n",
    "    print(\"O número é múltiplo de 5\")"
   ]
  },
  {
   "cell_type": "code",
   "execution_count": 15,
   "metadata": {},
   "outputs": [
    {
     "name": "stdout",
     "output_type": "stream",
     "text": [
      "me pague o que me deve -77.00R$\n",
      "\u001b[91m -77.0\u001b[00m\n"
     ]
    }
   ],
   "source": [
    "valor_compra =  float(input('Valor da Compra: '))\n",
    "valor_pagamento = float(input('Valor do pagamento: '))\n",
    "troco=float(0)\n",
    "\n",
    "if (valor_pagamento >= valor_compra):\n",
    "    troco = valor_pagamento-valor_compra\n",
    "    print(f'O troco será de {troco:.2f}R$')\n",
    "else:\n",
    "    troco = valor_pagamento-valor_compra\n",
    "    print(f'me pague o que me deve {troco:.2f}R$')\n",
    "    print(\"\\033[91m {}\\033[00m\" .format(troco))\n"
   ]
  },
  {
   "cell_type": "code",
   "execution_count": null,
   "metadata": {},
   "outputs": [],
   "source": []
  },
  {
   "cell_type": "markdown",
   "metadata": {
    "id": "fvS8sEgpgOfF"
   },
   "source": [
    "Em Python, usamos espaços (2 a 4 geralmente) ou tabulações (tabs) para recuar e delimitar um bloco de comandos local.\n",
    "\n",
    "Nem todas as linguagens de programação exigem a indentação (os blocos locais são definidos com caracteres especiais tais como chaves em C e Java). Ainda assim, a indentação dos blocos locais é considerada uma boa prática, pois ajuda a ressaltar a estrutura do programa, aumentando assim a legibilidade do código.\n",
    "\n",
    "Apesar de não haver um número exato de espaços a ser utilizado, é essencial que seja estabelecido um padrão dentro de um mesmo programa para evitar confusões de interpretação ou erros."
   ]
  },
  {
   "cell_type": "markdown",
   "metadata": {
    "id": "x-yRBnH3I3Kd"
   },
   "source": [
    "## else (senão)\n",
    "---"
   ]
  },
  {
   "cell_type": "markdown",
   "metadata": {
    "id": "S9qRfLWZzwHf"
   },
   "source": [
    "O comando `else` não avalia uma expressão booleana, por isso ele sempre deve ser sempre precedido de um comando `if` na mesma indentação.\n",
    "\n",
    "```python\n",
    "if expressao_booleana:\n",
    "    # Código recuado (indentado) que será executado apenas se a expressao_booleana for avaliada como verdadeira\n",
    "else:\n",
    "    # Código recuado (indentado) que será executado apenas se a expressao_booleana for avaliada como falsa\n",
    "# Código que será executado após condicional (seja verdadeira ou falsa)\n",
    "```"
   ]
  },
  {
   "cell_type": "markdown",
   "metadata": {
    "id": "RDnZb8hj5wE5"
   },
   "source": [
    "Utilizamos o comando `if` acompanhado do comando `else` quando precisamos executar um bloco de comandos apenas quando a expressão booleana avaliada for verdadeira e outro bloco apenas quando esta for falsa."
   ]
  },
  {
   "cell_type": "code",
   "execution_count": null,
   "metadata": {
    "id": "5tIIKhmGCuNE"
   },
   "outputs": [],
   "source": [
    "a = -2\n",
    "if a > 0:\n",
    "    print(\"É maior que zero\")\n",
    "else:\n",
    "    print(\"É menor ou igual a zero\")\n",
    "print(\"É um número\")"
   ]
  },
  {
   "cell_type": "code",
   "execution_count": null,
   "metadata": {
    "id": "kntv2gj6zwmu"
   },
   "outputs": [],
   "source": [
    "y = 5\n",
    "x = -3\n",
    "if x > y:\n",
    "    print(\"x é maior que y\")\n",
    "else:\n",
    "    print(\"x é menor ou igual y\")"
   ]
  },
  {
   "cell_type": "code",
   "execution_count": null,
   "metadata": {
    "id": "2T6N6UwO_tTx"
   },
   "outputs": [],
   "source": [
    "y = 5\n",
    "x = -3\n",
    "if x > 0 and y > 0:\n",
    "    print(\"Os dois valores são positivos\")\n",
    "else:\n",
    "    print(\"Um dos valores não é positivo\")"
   ]
  },
  {
   "cell_type": "markdown",
   "metadata": {
    "id": "sUpZoMuJ7dzQ"
   },
   "source": [
    "### Exercício 1: usando os comandos condicionais solicite para o usuário o ano, mês e dia de seu nascimento (use três variáveis para armazenar os valores) e, usando os comandos condicionais, calcule e imprima a sua idade em anos."
   ]
  },
  {
   "cell_type": "code",
   "execution_count": null,
   "metadata": {
    "colab": {
     "base_uri": "https://localhost:8080/"
    },
    "executionInfo": {
     "elapsed": 4282,
     "status": "ok",
     "timestamp": 1742921936649,
     "user": {
      "displayName": "Anahy Cristal Marsolin",
      "userId": "11580221437239793208"
     },
     "user_tz": 180
    },
    "id": "Aom2-hdT7eha",
    "outputId": "d70749da-c50c-4393-87ae-d0abf8670001"
   },
   "outputs": [
    {
     "name": "stdout",
     "output_type": "stream",
     "text": [
      "Digite seu dia de nascimento: 24\n",
      "Digite seu mês de nascimento: 01\n",
      "Digite seu ano de nascimento: 2007\n",
      "\n",
      "Sua data de nascimento é: 24/1/2007 e você tem atualmente 18 anos\n"
     ]
    }
   ],
   "source": [
    "# Resolução do exercício 1\n",
    "x = int(input(\"Digite seu dia de nascimento: \"))\n",
    "x2 = int(input(\"Digite seu mês de nascimento: \"))\n",
    "x3 = int(iput(\"Digite seu ano de nascimento: \"))\n",
    "valor = 4554\n",
    "valor_convertido = str(valor)\n",
    "if x3 - 2025 != 0:\n",
    "  calcule = 2025 - x3\n",
    "  print(f\"\\nSua data de nascimento é: {x}/{x2}/{x3} e você tem atualmente {calcule } anos\")"
   ]
  },
  {
   "cell_type": "markdown",
   "metadata": {
    "id": "0WHWF3iK7cmJ"
   },
   "source": [
    "## Operador Ternário\n",
    "---\n"
   ]
  },
  {
   "cell_type": "markdown",
   "metadata": {
    "id": "4GqN_sD98NUi"
   },
   "source": [
    "É uma forma alternativa de definir um par de comandos `if` e `else` em uma única linha.\n",
    "\n",
    "```python\n",
    "bloco_1 if expressao_booleana else bloco_2\n",
    "```\n",
    "\n",
    "Interpreta-se a condicional acima da seguinte forma:\n",
    "\n",
    "Execute `bloco_1` se `expressao_booleana` for verdadeira, senão execute `bloco_2`."
   ]
  },
  {
   "cell_type": "code",
   "execution_count": null,
   "metadata": {
    "id": "PAqY62M7kLaA"
   },
   "outputs": [],
   "source": [
    "# sem operador ternário\n",
    "a = 10\n",
    "b = 20\n",
    "if a > b\n",
    "    maior = a\n",
    "else\n",
    "    maior = b\n",
    "print(\"O maior valor é\", maior)"
   ]
  },
  {
   "cell_type": "code",
   "execution_count": null,
   "metadata": {
    "id": "JLyZ1eHNkLSY"
   },
   "outputs": [],
   "source": [
    "# usando o operador ternário\n",
    "a = 10\n",
    "b = 20\n",
    "maior = a if a > b else b\n",
    "print(\"O maior valor é\", maior)\n",
    "\n",
    "# Também é possível usar o operador ternário dentro de um parâmetro de uma função\n",
    "print(\"O menor valor é\", a if a < b else b)"
   ]
  },
  {
   "cell_type": "markdown",
   "metadata": {
    "id": "byZv7Wt57PmD"
   },
   "source": [
    "### Exercício 2: use o operador ternário para identificar e imprimir se o número informado pelo usuário é par ou é ímpar"
   ]
  },
  {
   "cell_type": "code",
   "execution_count": null,
   "metadata": {
    "colab": {
     "base_uri": "https://localhost:8080/"
    },
    "executionInfo": {
     "elapsed": 3594,
     "status": "ok",
     "timestamp": 1742922291404,
     "user": {
      "displayName": "Anahy Cristal Marsolin",
      "userId": "11580221437239793208"
     },
     "user_tz": 180
    },
    "id": "c5Yq64dSkLJh",
    "outputId": "6d56c42a-5dd2-485b-d6f2-5f24443fefeb"
   },
   "outputs": [
    {
     "name": "stdout",
     "output_type": "stream",
     "text": [
      " Informe um número: 7\n",
      "O número informado é impar.\n"
     ]
    }
   ],
   "source": [
    "# Resolução do exercício 2\n",
    "x = int(input(\" Informe um número: \"))\n",
    "\n",
    "print(\"O número informado é par\" if x % 2 == 0 else \"O número informado é impar.\")"
   ]
  },
  {
   "cell_type": "markdown",
   "metadata": {
    "id": "rlqPqXS-_GXG"
   },
   "source": [
    "## if / else aninhados\n",
    "---"
   ]
  },
  {
   "cell_type": "markdown",
   "metadata": {
    "id": "lS0fz8nqSS7M"
   },
   "source": [
    "\n",
    "\n",
    "A estrutura `if`-`else` vista acima nos permite testar uma condição e decidir entre duas possibilidades diferentes. O que podemos fazer quando precisamos escolher entre um número maior de possibilidades?\n",
    "\n",
    "Um comando condicional executa um bloco de comandos.\n",
    "Dentro deste de bloco, podemos escrever outro comando condicional."
   ]
  },
  {
   "cell_type": "code",
   "execution_count": null,
   "metadata": {
    "id": "2GGKcTdiS0dL"
   },
   "outputs": [],
   "source": [
    "idade = int(input(\"Digite a sua idade: \"))\n",
    "if idade >= 16:\n",
    "    if idade >= 18 and idade < 70:\n",
    "        print(\"Você pode votar e é obrigado a votar\")\n",
    "    else:\n",
    "        print(\"Você pode votar, mas não é obrigado a votar\")\n",
    "else:\n",
    "    print(\"Você não pode votar\")"
   ]
  },
  {
   "cell_type": "markdown",
   "metadata": {
    "id": "fFigyKkfu-xZ"
   },
   "source": [
    "Note nos exemplos que um novo recuo (indentação) é criado a cada condicional interna para delimitar os escopos internos de cada comando condicional.\n",
    "\n",
    "Considerando o exemplo acima, podemos delimitar o escopo local de cada comando condicional usando as indentações.\n",
    "```python\n",
    "if idade >= 16:\n",
    "    if idade >= 18 and idade < 70:\n",
    "        print(\"Você pode votar e é obrigado a votar\")\n",
    "    else:\n",
    "        print(\"Você pode votar, mas não é obrigado a votar\")\n",
    "```\n",
    "```python\n",
    "    if idade >= 18 and idade < 70:\n",
    "        print(\"Você pode votar e é obrigado a votar\")\n",
    "```\n",
    "```python\n",
    "    else:\n",
    "        print(\"Você pode votar, mas não é obrigado a votar\")\n",
    "```\n",
    "```python\n",
    "else:\n",
    "    print(\"Você não pode votar\")\n",
    "```"
   ]
  },
  {
   "cell_type": "markdown",
   "metadata": {
    "id": "XX_Rok6D_Z6o"
   },
   "source": [
    "### Exercício 3: pergunte a idade em anos do usuário e o classifique quanto a sua categoria etária (criança até 12 anos, adolescente dos 13 aos 17 anos, adulto dos 18 aos 64 anos ou idoso se mais de 64 anos). Se o usuário digitar um número negativo ou maior que 150 anos o programa deve imprimir uma mensagem de erro."
   ]
  },
  {
   "cell_type": "code",
   "execution_count": null,
   "metadata": {
    "colab": {
     "base_uri": "https://localhost:8080/"
    },
    "executionInfo": {
     "elapsed": 2303,
     "status": "ok",
     "timestamp": 1742923314063,
     "user": {
      "displayName": "Anahy Cristal Marsolin",
      "userId": "11580221437239793208"
     },
     "user_tz": 180
    },
    "id": "Pt60pTI__aSI",
    "outputId": "15b752fc-9f41-422a-b83a-1b4d47527a01"
   },
   "outputs": [
    {
     "name": "stdout",
     "output_type": "stream",
     "text": [
      "Informe sua idade: 120\n",
      "Algo deu errado. Tente novamente.😵‍💫\n",
      "\n",
      "A idade digitada foi: 120 anos\n"
     ]
    }
   ],
   "source": [
    "# Resolução do exercício 3\n",
    "x = int(input(\"Informe sua idade: \"))\n",
    "\n",
    "if x >= 0 and x <= 12:\n",
    "  print(\"\\nVocê é uma criança.\")\n",
    "\n",
    "if x >= 13 and x <= 17:\n",
    "  print(\"\\nVocê é um adolescente.\")\n",
    "\n",
    "if x >= 18 and x <= 64:\n",
    "  print(\"\\nVocê é um adulto.\")\n",
    "\n",
    "if x >= 65 and x <= 110:\n",
    "  print(\"\\nVocê é um idoso.\")\n",
    "\n",
    "if x < 0 or x >= 111:\n",
    "  print(f\"Algo deu errado. Tente novamente.😵‍💫\\n\\nA idade digitada foi: {x} anos\")"
   ]
  },
  {
   "cell_type": "markdown",
   "metadata": {
    "id": "OuQvUfRB_LiH"
   },
   "source": [
    "## elif (senão se)\n",
    "---"
   ]
  },
  {
   "cell_type": "markdown",
   "metadata": {
    "id": "bjZ_5UwH80Oz"
   },
   "source": [
    "\n",
    "\n",
    "Algumas linguagens, como é o caso do Python, disponibilizam\n",
    "uma forma alternativa de realizar o `if` aninhado de forma mais\n",
    "enxuta com o comando `elif`.\n",
    "```python\n",
    "if expressao_booleana_1:\n",
    "    # Código recuado (indentado) que será executado apenas se a expressao_booleana_1 for avaliada como verdadeira\n",
    "elif expressao_booleana_2:\n",
    "    # Código recuado (indentado) que será executado apenas se a expressao_booleana_1 for avaliada como falsa e a expressao_booleana_2 for avaliada como verdadeira\n",
    "... # Pode conter múltiplso comandos elif\n",
    "else:\n",
    "    # Código recuado (indentado) que será executado apenas se todas as expressões booleanas forem avaliadas como falsa\n",
    "# Código que será executado após condicional\n",
    "```"
   ]
  },
  {
   "cell_type": "code",
   "execution_count": null,
   "metadata": {
    "id": "HBXzEvZPyOyH"
   },
   "outputs": [],
   "source": [
    "# If/Else aninhados\n",
    "uf = input(\"Informe a sigla do estado (UF): \")\n",
    "if uf == \"PR\":\n",
    "    print(\"Paraná\")\n",
    "else:\n",
    "    if uf == \"SC\":\n",
    "        print(\"Santa Catarina\")\n",
    "    else:\n",
    "        if uf == \"RS\":\n",
    "            print(\"Rio Grande do Sul\")\n",
    "        else:\n",
    "            print(\"Informação indisponível\")"
   ]
  },
  {
   "cell_type": "code",
   "execution_count": null,
   "metadata": {
    "id": "xobpOrBJ9Keo"
   },
   "outputs": [],
   "source": [
    "# Usando o comando elif\n",
    "uf = input(\"Informe a sigla do estado (UF): \")\n",
    "if uf == \"PR\":\n",
    "    print(\"Paraná\")\n",
    "elif uf == \"SC\":\n",
    "    print(\"Santa Catarina\")\n",
    "elif uf == \"RS\":\n",
    "    print(\"Rio Grande do Sul\")\n",
    "else:\n",
    "    print(\"Informação indisponível\")"
   ]
  },
  {
   "cell_type": "markdown",
   "metadata": {
    "id": "vrgXl8G1-9_a"
   },
   "source": [
    "# Atividades Extra Classe\n",
    "---"
   ]
  },
  {
   "cell_type": "markdown",
   "metadata": {
    "id": "sziUnkZT3scp"
   },
   "source": [
    "### Atividade 1\n",
    "\n",
    "Faça um programa que leia 2 números e informe se o primeiro é ou não múltiplo do segundo.\n",
    "\n"
   ]
  },
  {
   "cell_type": "code",
   "execution_count": null,
   "metadata": {
    "colab": {
     "base_uri": "https://localhost:8080/"
    },
    "executionInfo": {
     "elapsed": 3998,
     "status": "ok",
     "timestamp": 1742920367304,
     "user": {
      "displayName": "Anahy Cristal Marsolin",
      "userId": "11580221437239793208"
     },
     "user_tz": 180
    },
    "id": "ts-Wj0Qb3omI",
    "outputId": "06695f49-0520-4629-e629-93fd6211a8b7"
   },
   "outputs": [
    {
     "name": "stdout",
     "output_type": "stream",
     "text": [
      "Informe um número: 8\n",
      "Informe outro número: 7\n",
      "8 não é múltiplo de 7\n"
     ]
    }
   ],
   "source": [
    "# Resolução da atividade 1\n",
    "x = int(input(\"Informe um número: \"))\n",
    "x2 = int(input(\"Informe outro número: \"))\n",
    "\n",
    "if x % x2 == 0:\n",
    "    print(f\"{x} é múltiplo de {x2}\")\n",
    "else:\n",
    "    print(f\"{x} não é múltiplo de {x2}\")\n"
   ]
  },
  {
   "cell_type": "markdown",
   "metadata": {
    "id": "PeIc3LQg2NJS"
   },
   "source": [
    "### Atividade 2\n",
    "\n",
    "Escreva um programa para ler\to\tano\tde fabricação de um veículo\te informar ao usuário se ele é isento ou não do pagamento de IPVA.\n",
    "\n",
    "Considere que o veículo se torna isento após 30 anos de sua fabricação."
   ]
  },
  {
   "cell_type": "code",
   "execution_count": null,
   "metadata": {
    "colab": {
     "base_uri": "https://localhost:8080/"
    },
    "executionInfo": {
     "elapsed": 2856,
     "status": "ok",
     "timestamp": 1742920728419,
     "user": {
      "displayName": "Anahy Cristal Marsolin",
      "userId": "11580221437239793208"
     },
     "user_tz": 180
    },
    "id": "1dEdZ2AZ235t",
    "outputId": "d36ee156-7bff-4e43-ddcc-6a53b263f264"
   },
   "outputs": [
    {
     "name": "stdout",
     "output_type": "stream",
     "text": [
      "Informe o ano de fabricação do veículo: 2004\n",
      "O veículo não está isento de pagar IPVA\n"
     ]
    }
   ],
   "source": [
    "# Resolução da atividade 2\n",
    "x = int(input(\"Informe o ano de fabricação do veículo: \"))\n",
    "\n",
    "if x <= 2025 - 30:\n",
    "  print(\"O veiculo está isento do pagamento de IPVA em 2026\")\n",
    "\n",
    "else:\n",
    "  print(\"O veículo não está isento de pagar IPVA\")"
   ]
  },
  {
   "cell_type": "markdown",
   "metadata": {
    "id": "II-LWNsl23UK"
   },
   "source": [
    "### Atividade 3\n",
    "\n",
    "Uma fruteira vende maçãs com 2 preços, R\\$ 0,30 cada, para compras de até 12 unidades, e R\\$ 0,25 cada, para compras acima de 12 unidades.\n",
    "\n",
    "Faça um programa que leia a quantidade de maçãs compradas, calcule e apresente o valor a ser pago pelo cliente."
   ]
  },
  {
   "cell_type": "code",
   "execution_count": null,
   "metadata": {
    "colab": {
     "base_uri": "https://localhost:8080/"
    },
    "executionInfo": {
     "elapsed": 1462,
     "status": "ok",
     "timestamp": 1742921355336,
     "user": {
      "displayName": "Anahy Cristal Marsolin",
      "userId": "11580221437239793208"
     },
     "user_tz": 180
    },
    "id": "dVphAtG73SJC",
    "outputId": "1273f77f-d56a-46b9-9145-02569f3e855f"
   },
   "outputs": [
    {
     "name": "stdout",
     "output_type": "stream",
     "text": [
      "Digite a quantidade de maçãs compradas: 0\n",
      "Algo deu errado, tente novamente. ☹️\n"
     ]
    }
   ],
   "source": [
    "# Resolução da atividade 3\n",
    "x = int(input(\"Digite a quantidade de maçãs compradas: \"))\n",
    "\n",
    "if x <= 12 and x != 0:\n",
    "  calcule = x * 0.25\n",
    "  print(f\"O valor a ser pago é de R${calcule :.2f}\")\n",
    "\n",
    "elif x > 12 and x != 0:\n",
    "  calcule = x * 0.30\n",
    "  print(f\"O valor a ser pago em R$ será:{calcule :.2f} \")\n",
    "\n",
    "else:\n",
    "  print(\"Algo deu errado, tente novamente. ☹️\")"
   ]
  },
  {
   "cell_type": "markdown",
   "metadata": {
    "id": "xo8rMpQK64mE"
   },
   "source": [
    "### Atividade 4\n",
    "\n",
    "Uma loja vende produtos à vista e a prazo. À vista é concedido um desconto de 5% e a prazo há um acréscimo de 10%.\n",
    "\n",
    "Faça um programa que leia o preço do produto e a forma de pagamento. Depois, apresente o preço final do produto."
   ]
  },
  {
   "cell_type": "code",
   "execution_count": null,
   "metadata": {
    "colab": {
     "base_uri": "https://localhost:8080/"
    },
    "executionInfo": {
     "elapsed": 3954,
     "status": "ok",
     "timestamp": 1742924142879,
     "user": {
      "displayName": "Anahy Cristal Marsolin",
      "userId": "11580221437239793208"
     },
     "user_tz": 180
    },
    "id": "d_tfbXNZ7GNw",
    "outputId": "4af87d0e-7411-477d-822c-ab7d84b50065"
   },
   "outputs": [
    {
     "name": "stdout",
     "output_type": "stream",
     "text": [
      "Informe o valor do produto: 100\n",
      "Informe a forma de pagamento (à vista ou à prazo): q\n",
      "\n",
      "ERRO DE DIGITAÇÃO! 😵‍💫😵 \n",
      " \n",
      "O que você digitou foi: R$ '100.0' e 'q'\n"
     ]
    }
   ],
   "source": [
    "# Resolução da atividade 4\n",
    "x = float(input(\"Informe o valor do produto: \"))\n",
    "x2 = input(\"Informe a forma de pagamento (à vista ou à prazo): \")\n",
    "\n",
    "if x2 == \"a vista\" or x2 == \"à vista\":\n",
    "  calcule = x * 0.05\n",
    "  print(f\"O valor a ser pago será de R$ {x - calcule:.2f}.\")\n",
    "\n",
    "elif x2 == \"a prazo\" or x2 == 'à prazo':\n",
    "  calcule = x * 0.10\n",
    "  print(f\"O valor total a ser pago será de R$ {x + calcule :.2f}.\")\n",
    "\n",
    "else:\n",
    "  print(f\"\\nERRO DE DIGITAÇÃO! 😵‍💫😵 \\n \\nO que você digitou foi: R$ '{x}' e '{x2}'\")"
   ]
  },
  {
   "cell_type": "markdown",
   "metadata": {
    "id": "egBtdieh3Seh"
   },
   "source": [
    "### Atividade 5\n",
    "\n",
    "Escreva\tum\tprograma\tpara\tler\t2\tvalores\tinteiros e\tindicar qual dos dois valores é o maior, ou se eles são iguais."
   ]
  },
  {
   "cell_type": "code",
   "execution_count": null,
   "metadata": {
    "colab": {
     "base_uri": "https://localhost:8080/"
    },
    "executionInfo": {
     "elapsed": 3313,
     "status": "ok",
     "timestamp": 1742924483479,
     "user": {
      "displayName": "Anahy Cristal Marsolin",
      "userId": "11580221437239793208"
     },
     "user_tz": 180
    },
    "id": "NjGZKMYWDTyu",
    "outputId": "881cec27-b88c-4efe-9ddc-6fccc5468c5a"
   },
   "outputs": [
    {
     "name": "stdout",
     "output_type": "stream",
     "text": [
      "Informe um número: 10\n",
      "Informe outro número: 3\n",
      "O número 10 é maior que o número 3!\n"
     ]
    }
   ],
   "source": [
    "# Resolução da atividade 5\n",
    "x = int(input(\"Informe um número: \"))\n",
    "x2 = int(input(\"Informe outro número: \"))\n",
    "\n",
    "if x > x2:\n",
    "  print(f\"O número {x} é maior que o número {x2}!\")\n",
    "\n",
    "elif x < x2:\n",
    "  print(f\"O número {x2} é maior que o número {x}!\")\n",
    "\n",
    "elif x == x2:\n",
    "  print(f\"O número {x} e o número {x2} são iguais!\")\n",
    "\n",
    "else:\n",
    "  print(f\"Algo deu errado, os valores informados foram: {x} e {x2}\")"
   ]
  },
  {
   "cell_type": "markdown",
   "metadata": {
    "id": "vyz2pIOK5ptU"
   },
   "source": [
    "### Atividade 6\n",
    "\n",
    "Faça um programa que funcione como uma calculadora simples. Leia dois valores numéricos e a operação aritmética a ser executada (+, -, / ou *), calcule e exiba o resultado da referida operação.\n",
    "\n",
    "O programa deve avisar o usuário se foi digitada uma\n",
    "operação inválida."
   ]
  },
  {
   "cell_type": "code",
   "execution_count": null,
   "metadata": {
    "colab": {
     "base_uri": "https://localhost:8080/"
    },
    "executionInfo": {
     "elapsed": 5035,
     "status": "ok",
     "timestamp": 1742955528742,
     "user": {
      "displayName": "Anahy Cristal Marsolin",
      "userId": "11580221437239793208"
     },
     "user_tz": 180
    },
    "id": "X-shx2UC5uxX",
    "outputId": "ad162dcb-864d-4729-e314-b298ea12f611"
   },
   "outputs": [
    {
     "name": "stdout",
     "output_type": "stream",
     "text": [
      "Informe um número: 12\n",
      "Informe um número: 12\n",
      "Informe a operação a ser realizada (+, -, /, *): //\n",
      "\n",
      "Algo deu errado! \n",
      "As informações digitadas foram: '12.0', '12.0' e '//'! \n",
      "Confira e refaça.\n"
     ]
    }
   ],
   "source": [
    "# Resolução da atividade 6\n",
    "x = float(input(\"Informe um número: \"))\n",
    "x2 = float(input(\"Informe um número: \"))\n",
    "x3 = input(\"Informe a operação a ser realizada (+, -, /, *): \")\n",
    "\n",
    "if x3 == \"+\":\n",
    "  calcule = x + x2\n",
    "  print(f\"O resultado da soma é: {calcule:.2f}\")\n",
    "\n",
    "elif x3 == \"-\":\n",
    "  calcule = x - x2\n",
    "  print(f\"O resultado da subtração é: {calcule:.2f}\")\n",
    "\n",
    "elif x3 == \"/\":\n",
    "  calcule = x / x2\n",
    "  print(f\"O resultado da divisão é: {calcule:.2f}\")\n",
    "\n",
    "elif x3 == \"*\" :\n",
    "  calcule = x * x2\n",
    "  print(f\"O resultado da multiplicação é: {calcule:.2f}\")\n",
    "\n",
    "else:\n",
    "  print(f\"\\nAlgo deu errado! \\nAs informações digitadas foram: '{x}', '{x2}' e '{x3}'! \\nConfira e refaça.\")"
   ]
  },
  {
   "cell_type": "markdown",
   "metadata": {
    "id": "zkIXOhkr2ihv"
   },
   "source": [
    "### Atividade 7 (crédito ao Angemydelson Saint-Bert)\n",
    "\n",
    "Construir um programa que leia dois números e efetue a adição. Caso o valor somado seja maior que 20, este deverá ser apresentado somando-se a ele mais 8;\n",
    "caso o valor somado seja menor ou igual a 20, este deverá ser apresentado subtraindo-se 5."
   ]
  },
  {
   "cell_type": "code",
   "execution_count": null,
   "metadata": {
    "colab": {
     "base_uri": "https://localhost:8080/"
    },
    "executionInfo": {
     "elapsed": 4378,
     "status": "ok",
     "timestamp": 1742926177303,
     "user": {
      "displayName": "Anahy Cristal Marsolin",
      "userId": "11580221437239793208"
     },
     "user_tz": 180
    },
    "id": "yfMBMyyhrc6j",
    "outputId": "5900ccfa-3bab-4b0d-8067-e8cad80f7441"
   },
   "outputs": [
    {
     "name": "stdout",
     "output_type": "stream",
     "text": [
      "Digite um número: 20\n",
      "Digite outro número: 0\n",
      "O calculo final é: 15.0\n"
     ]
    }
   ],
   "source": [
    "# Resolução da atividade 7\n",
    "x = float(input(\"Digite um número: \"))\n",
    "x2 = float(input(\"Digite outro número: \"))\n",
    "x3 = x + x2\n",
    "if x3 > 20:\n",
    "  calcule = x3 + 8\n",
    "  print(f\"O calculo final é: {calcule}\")\n",
    "\n",
    "elif x3 <= 20:\n",
    "  calcule = x3 - 5\n",
    "  print(f\"O calculo final é: {calcule}\")\n",
    "\n",
    "else:\n",
    "  print(f\"\\nAlgo deu errado! ☹️ \\nOs valores informados foram: '{x}' e '{x2}'.\")"
   ]
  },
  {
   "cell_type": "markdown",
   "metadata": {
    "id": "wWiplCN1r5xt"
   },
   "source": [
    "### Atividade 8 (crédito ao Angemydelson Saint-Bert)\n",
    "\n",
    "A prefeitura de Chapecó abriu uma linha de crédito para os funcionários. O valor máximo da prestação não poderá ultrapassar 30% do salário\n",
    "bruto.\n",
    "\n",
    "Fazer um algoritmo que permita entrar com o salário bruto e o valor da\n",
    "prestação e informar se o empréstimo pode ou não ser concedido."
   ]
  },
  {
   "cell_type": "code",
   "execution_count": null,
   "metadata": {
    "colab": {
     "base_uri": "https://localhost:8080/"
    },
    "executionInfo": {
     "elapsed": 20106,
     "status": "ok",
     "timestamp": 1742927109614,
     "user": {
      "displayName": "Anahy Cristal Marsolin",
      "userId": "11580221437239793208"
     },
     "user_tz": 180
    },
    "id": "_KB78nf2sRjJ",
    "outputId": "54e9a975-c888-4750-b4c4-292e2d6c966d"
   },
   "outputs": [
    {
     "name": "stdout",
     "output_type": "stream",
     "text": [
      "Informe seu salario bruto: R$ 1500\n",
      "Informe o valor da prestação: R$ 500\n",
      "O emprestimo não poderá ser concedido\n"
     ]
    }
   ],
   "source": [
    "# Resolução da atividade 8\n",
    "x = float(input(\"Informe seu salario bruto: R$ \"))\n",
    "x2 = float(input(\"Informe o valor da prestação: R$ \"))\n",
    "\n",
    "if x2 >= x * 0.30:\n",
    "  print(\"O emprestimo não poderá ser concedido\")\n",
    "\n",
    "else:\n",
    "  print(\"O empréstimo poderá ser concedido\")"
   ]
  },
  {
   "cell_type": "markdown",
   "metadata": {
    "id": "ohbs_tSAwdrq"
   },
   "source": [
    "### Atividade 9\n",
    "Adapte o programa abaixo mudando a expressão booleana do segundo comando `if`. Ao invés de usar o operador `and` na expressão booleana, mude a expressão para usar o operador `or` mantendo o mesmo comportamento lógico.\n",
    "\n",
    "```python\n",
    "idade = int(input(\"Digite a sua idade: \"))\n",
    "if idade >= 16:\n",
    "    if idade >= 18 and idade < 70:\n",
    "        print(\"Você pode votar e é obrigado a votar\")\n",
    "    else:\n",
    "        print(\"Você pode votar, mas não é obrigado a votar\")\n",
    "else:\n",
    "    print(\"Você não pode votar\")\n",
    "```"
   ]
  },
  {
   "cell_type": "code",
   "execution_count": null,
   "metadata": {
    "colab": {
     "base_uri": "https://localhost:8080/"
    },
    "executionInfo": {
     "elapsed": 1749,
     "status": "ok",
     "timestamp": 1742954283654,
     "user": {
      "displayName": "Anahy Cristal Marsolin",
      "userId": "11580221437239793208"
     },
     "user_tz": 180
    },
    "id": "Mse_sA3rJJaN",
    "outputId": "4750591b-ed3d-4447-bf39-5307d2b9bf38"
   },
   "outputs": [
    {
     "name": "stdout",
     "output_type": "stream",
     "text": [
      "Digite a sua idade: 77\n",
      "Você pode votar, mas não é obrigado a votar\n"
     ]
    }
   ],
   "source": [
    "idade = int(input(\"Digite a sua idade: \"))\n",
    "if idade >= 16:\n",
    "    if idade < 18 or idade > 70:\n",
    "        print(\"Você pode votar, mas não é obrigado a votar\")\n",
    "    else:\n",
    "        print(\"Você pode votar e é obrigado a votar\")\n",
    "else:\n",
    "    print(\"Você não pode votar\")"
   ]
  },
  {
   "cell_type": "markdown",
   "metadata": {
    "id": "hVMGWgtO3u-m"
   },
   "source": [
    "### Atividade 10\n",
    "\n",
    "Escreva um programa que leia 3 valores inteiros `a`, `b` e `c` e informe se eles representam os lados de um triângulo.\n",
    "\n",
    "Três valores podem representar os lados de um triângulo se e somente se a soma de quaisquer 2 lados for maior que o terceiro lado."
   ]
  },
  {
   "cell_type": "code",
   "execution_count": null,
   "metadata": {
    "colab": {
     "base_uri": "https://localhost:8080/"
    },
    "executionInfo": {
     "elapsed": 4566,
     "status": "ok",
     "timestamp": 1742928176137,
     "user": {
      "displayName": "Anahy Cristal Marsolin",
      "userId": "11580221437239793208"
     },
     "user_tz": 180
    },
    "id": "_lNW7ztC4V7E",
    "outputId": "b98e9696-5d3b-4e4b-9e7f-b4ec67459fbc"
   },
   "outputs": [
    {
     "name": "stdout",
     "output_type": "stream",
     "text": [
      "Informe um número: 22\n",
      "Informe um número: 2\n",
      "informe um número: 2\n",
      "Representam um triângulo\n"
     ]
    }
   ],
   "source": [
    "# Resolução da atividade 10\n",
    "a = int(input(\"Informe um número: \"))\n",
    "b = int(input(\"Informe um número: \"))\n",
    "c = int(input(\"informe um número: \"))\n",
    "\n",
    "if a + b < c or a + c > b or b + c > a:\n",
    "  print(\"Representam um triângulo\")\n",
    "\n",
    "else:\n",
    "  print(\"Não representa um triângulo\")"
   ]
  },
  {
   "cell_type": "markdown",
   "metadata": {
    "id": "kS6n-8D0zyHG"
   },
   "source": [
    "### Atividade 11\n",
    "Faça uma nova versão da atividade acima de modo que, caso os 3 valores formem um triângulo, o programa informe também qual o seu tipo: equilátero, isósceles ou escaleno."
   ]
  },
  {
   "cell_type": "code",
   "execution_count": null,
   "metadata": {
    "colab": {
     "base_uri": "https://localhost:8080/"
    },
    "executionInfo": {
     "elapsed": 2776,
     "status": "ok",
     "timestamp": 1742928657035,
     "user": {
      "displayName": "Anahy Cristal Marsolin",
      "userId": "11580221437239793208"
     },
     "user_tz": 180
    },
    "id": "oU41i3vP5YVk",
    "outputId": "8df7bdd0-daf3-4be6-f78d-93dd6faa0e30"
   },
   "outputs": [
    {
     "name": "stdout",
     "output_type": "stream",
     "text": [
      "Informe um número: 1\n",
      "Informe um número: 2\n",
      "informe um número: 3\n",
      "É um triângulo escaleno\n"
     ]
    }
   ],
   "source": [
    "# Resolução da atividade 11\n",
    "a = int(input(\"Informe um número: \"))\n",
    "b = int(input(\"Informe um número: \"))\n",
    "c = int(input(\"informe um número: \"))\n",
    "\n",
    "if a == b and a == c:\n",
    "  print(\"É um triângulo equilatero\")\n",
    "\n",
    "elif a == b or b == c or a == c:\n",
    "  print(\"É um triângulo isóceles\")\n",
    "\n",
    "if a != b and a != c and b != c:\n",
    "  print(\"É um triângulo escaleno\")\n"
   ]
  }
 ],
 "metadata": {
  "colab": {
   "provenance": []
  },
  "kernelspec": {
   "display_name": "Python 3",
   "name": "python3"
  },
  "language_info": {
   "codemirror_mode": {
    "name": "ipython",
    "version": 3
   },
   "file_extension": ".py",
   "mimetype": "text/x-python",
   "name": "python",
   "nbconvert_exporter": "python",
   "pygments_lexer": "ipython3",
   "version": "3.11.0"
  }
 },
 "nbformat": 4,
 "nbformat_minor": 0
}
