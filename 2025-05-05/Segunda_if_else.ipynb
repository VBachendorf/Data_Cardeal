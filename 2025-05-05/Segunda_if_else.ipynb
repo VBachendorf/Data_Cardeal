{
 "cells": [
  {
   "cell_type": "markdown",
   "id": "70b07a09",
   "metadata": {},
   "source": [
    "### 1 - Número positivo, negativo ou zero\n",
    "\n",
    "Escreva um programa que peça ao usuário um número e diga se ele é positivo, negativo ou zero."
   ]
  },
  {
   "cell_type": "code",
   "execution_count": null,
   "id": "3cd9b26e",
   "metadata": {},
   "outputs": [],
   "source": []
  },
  {
   "cell_type": "markdown",
   "id": "e7a171da",
   "metadata": {},
   "source": [
    "### 2 - Par ou ímpar\n",
    "\n",
    "Peça um número inteiro ao usuário e diga se ele é par ou ímpar."
   ]
  },
  {
   "cell_type": "code",
   "execution_count": null,
   "id": "0e8784a0",
   "metadata": {},
   "outputs": [],
   "source": []
  },
  {
   "cell_type": "markdown",
   "id": "93b8dc7d",
   "metadata": {},
   "source": [
    "### 3 - Maioridade\n",
    "\n",
    "Solicite a idade de uma pessoa e informe se ela é menor de idade ou maior de idade (maior ou igual a 18)."
   ]
  },
  {
   "cell_type": "code",
   "execution_count": null,
   "id": "1f3782ab",
   "metadata": {},
   "outputs": [],
   "source": []
  },
  {
   "cell_type": "markdown",
   "id": "11eaed14",
   "metadata": {},
   "source": [
    "### 4 - Maior entre três números\n",
    "\n",
    "Receba três números do usuário e mostre qual é o maior deles."
   ]
  },
  {
   "cell_type": "code",
   "execution_count": null,
   "id": "8083521f",
   "metadata": {},
   "outputs": [],
   "source": []
  },
  {
   "cell_type": "markdown",
   "id": "ed8df9a0",
   "metadata": {},
   "source": [
    "### 5 - Calculadora simples\n",
    "\n",
    "Crie um programa que leia dois números e um operador (+, -, * ou /) e realize a operação."
   ]
  },
  {
   "cell_type": "code",
   "execution_count": null,
   "id": "d8084c19",
   "metadata": {},
   "outputs": [],
   "source": []
  },
  {
   "cell_type": "markdown",
   "id": "ac36ca9b",
   "metadata": {},
   "source": [
    "### 6 - Classificação escolar\n",
    "\n",
    "Leia uma nota de 0 a 10 e classifique como:\n",
    "\n",
    "* A (9 a 10)\n",
    "\n",
    "* B (7 a 8.9)\n",
    "\n",
    "* C (5 a 6.9)\n",
    "\n",
    "Reprovado (abaixo de 5)"
   ]
  },
  {
   "cell_type": "code",
   "execution_count": null,
   "id": "60a1c33b",
   "metadata": {},
   "outputs": [],
   "source": []
  },
  {
   "cell_type": "markdown",
   "id": "7c65bae4",
   "metadata": {},
   "source": [
    "### 7 - Validação de senha\n",
    "\n",
    "Peça uma senha ao usuário. Se a senha for \"python123\", exiba \"Acesso permitido\", senão \"Acesso negado\"."
   ]
  },
  {
   "cell_type": "code",
   "execution_count": null,
   "id": "32dda9ab",
   "metadata": {},
   "outputs": [],
   "source": []
  },
  {
   "cell_type": "markdown",
   "id": "fd9d42a5",
   "metadata": {},
   "source": [
    "### 8 - Ano bissexto\n",
    "\n",
    "Escreva um programa que receba um ano e informe se ele é ou não bissexto."
   ]
  },
  {
   "cell_type": "markdown",
   "id": "aebda220",
   "metadata": {},
   "source": [
    "### 9 - Verificador de triângulo\n",
    "\n",
    "* Peça três lados ao usuário. Verifique se formam um triângulo e qual o tipo:\n",
    "* Equilátero\n",
    "* Isósceles\n",
    "* Escaleno\n",
    "Caso não forme, diga que não é um triângulo."
   ]
  },
  {
   "cell_type": "code",
   "execution_count": null,
   "id": "f8d55488",
   "metadata": {},
   "outputs": [],
   "source": []
  },
  {
   "cell_type": "markdown",
   "id": "7f22ad37",
   "metadata": {},
   "source": [
    "### 10 - Classificação de atleta por idade\n",
    "Solicite a idade de um atleta e classifique em categorias:\n",
    "* Infantil A (5 a 7 anos)\n",
    "* Infantil B (8 a 10)\n",
    "* Juvenil A (11 a 13)\n",
    "* Juvenil B (14 a 17)\n",
    "* Adulto (18 ou mais)\n",
    "Caso menor que 5, diga que não pode competir.\n",
    "\n"
   ]
  },
  {
   "cell_type": "code",
   "execution_count": null,
   "id": "c0120a3f",
   "metadata": {},
   "outputs": [],
   "source": []
  }
 ],
 "metadata": {
  "kernelspec": {
   "display_name": "Python 3",
   "language": "python",
   "name": "python3"
  },
  "language_info": {
   "name": "python",
   "version": "3.11.0"
  }
 },
 "nbformat": 4,
 "nbformat_minor": 5
}
