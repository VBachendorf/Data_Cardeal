{
 "cells": [
  {
   "cell_type": "markdown",
   "metadata": {},
   "source": [
    "#### Testes condicionais\n"
   ]
  },
  {
   "cell_type": "code",
   "execution_count": 2,
   "metadata": {},
   "outputs": [],
   "source": [
    "valor_1 = 1\n",
    "valor_2 = 3"
   ]
  },
  {
   "cell_type": "code",
   "execution_count": 3,
   "metadata": {},
   "outputs": [
    {
     "name": "stdout",
     "output_type": "stream",
     "text": [
      "Falso\n"
     ]
    }
   ],
   "source": [
    "if (valor_1 > valor_2) and valor_2 + 5 / 3 > 5:\n",
    "    print('Verdadeiro')\n",
    "else :\n",
    "    print('Falso')  "
   ]
  },
  {
   "cell_type": "code",
   "execution_count": 6,
   "metadata": {},
   "outputs": [
    {
     "name": "stdout",
     "output_type": "stream",
     "text": [
      "verdadeiro\n"
     ]
    }
   ],
   "source": [
    "if (valor_1 < valor_2) and (1+valor_1+valor_2)//2:\n",
    "    print('verdadeiro')\n",
    "else:\n",
    "    print('Falso')"
   ]
  },
  {
   "cell_type": "code",
   "execution_count": 14,
   "metadata": {},
   "outputs": [],
   "source": [
    "peso = 78.654658654654\n",
    "altura = 1.72"
   ]
  },
  {
   "cell_type": "code",
   "execution_count": 15,
   "metadata": {},
   "outputs": [
    {
     "name": "stdout",
     "output_type": "stream",
     "text": [
      "26.586891108252438\n"
     ]
    }
   ],
   "source": [
    "resultado_altura = altura**2\n",
    "imc = peso / resultado_altura\n",
    "print(imc)"
   ]
  },
  {
   "cell_type": "markdown",
   "metadata": {},
   "source": [
    "* PESO NORMAL: ENTRE    20 A 24\n",
    "* EXCESSO DE PESO:      25 A 29\n",
    "* OBSIDADE :            30 A 35\n",
    "* SUPERIOR OBESIDADE    35 < "
   ]
  },
  {
   "cell_type": "code",
   "execution_count": null,
   "metadata": {},
   "outputs": [
    {
     "name": "stdout",
     "output_type": "stream",
     "text": [
      "OBESIDADE\n"
     ]
    }
   ],
   "source": [
    "imc = 32\n",
    "if imc>= 20 and imc <= 24:\n",
    "    print(\"PESO NORMAL\")\n",
    "elif imc >= 25 and imc <= 29:\n",
    "    print(f'{imc:.1f} indica EXCESSO DE PESO')\n",
    "elif imc >= 30 and imc <= 35:\n",
    "    print('OBESIDADE')   \n",
    "else:\n",
    "    print('SUPERIOR OBESIDADE')"
   ]
  },
  {
   "cell_type": "code",
   "execution_count": null,
   "metadata": {},
   "outputs": [],
   "source": []
  }
 ],
 "metadata": {
  "kernelspec": {
   "display_name": "Python 3",
   "language": "python",
   "name": "python3"
  },
  "language_info": {
   "codemirror_mode": {
    "name": "ipython",
    "version": 3
   },
   "file_extension": ".py",
   "mimetype": "text/x-python",
   "name": "python",
   "nbconvert_exporter": "python",
   "pygments_lexer": "ipython3",
   "version": "3.11.0"
  }
 },
 "nbformat": 4,
 "nbformat_minor": 2
}
