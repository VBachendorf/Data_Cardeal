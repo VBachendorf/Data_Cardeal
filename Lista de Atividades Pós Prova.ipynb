{
 "cells": [
  {
   "cell_type": "markdown",
   "id": "72b757bd",
   "metadata": {},
   "source": [
    "Regras para as Atividades:\n",
    "Use apenas input(), print(), operadores matemáticos e conversão de tipos.\n",
    "\n",
    "Formate os resultados para 2 casas decimais quando necessário.\n",
    "\n",
    "Nomeie as variáveis de forma descritiva (ex.: altura, preco_litro)."
   ]
  },
  {
   "cell_type": "markdown",
   "id": "d259b2c6",
   "metadata": {},
   "source": [
    "1. Calculadora de Área do Retângulo\n",
    "Peça ao usuário a largura e altura de um retângulo e calcule sua área.\n",
    "Saída esperada:\n",
    "```\n",
    "Largura: 5  \n",
    "Altura: 3  \n",
    "Área: 15  \n",
    "```"
   ]
  },
  {
   "cell_type": "code",
   "execution_count": null,
   "id": "678ccf90",
   "metadata": {},
   "outputs": [],
   "source": []
  },
  {
   "cell_type": "markdown",
   "id": "cfceba0c",
   "metadata": {},
   "source": [
    "2. Conversor de Idade para Dias\n",
    "Solicite a idade do usuário em anos e converta para dias (ignore anos bissextos).\n",
    "Saída esperada:\n",
    "```\n",
    "Idade: 20  \n",
    "Dias vividos: 7300  \n",
    "```"
   ]
  },
  {
   "cell_type": "code",
   "execution_count": null,
   "id": "2996046b",
   "metadata": {},
   "outputs": [],
   "source": []
  },
  {
   "cell_type": "markdown",
   "id": "df678fcc",
   "metadata": {},
   "source": [
    "3. Cálculo de Gorjeta\n",
    "Peça o valor da conta de um restaurante e calcule uma gorjeta de 10%.\n",
    "Saída esperada:\n",
    "```\n",
    "Valor da conta: R$ 120.00  \n",
    "Gorjeta (10%): R$ 12.00  \n",
    "```"
   ]
  },
  {
   "cell_type": "code",
   "execution_count": null,
   "id": "675c22da",
   "metadata": {},
   "outputs": [],
   "source": []
  },
  {
   "cell_type": "markdown",
   "id": "61854009",
   "metadata": {},
   "source": [
    "4. Média de Notas\n",
    "Solicite três notas de um aluno e calcule a média aritmética.\n",
    "Saída esperada:\n",
    "```\n",
    "Nota 1: 7.5  \n",
    "Nota 2: 8.0  \n",
    "Nota 3: 6.5  \n",
    "Média: 7.3  \n",
    "```"
   ]
  },
  {
   "cell_type": "code",
   "execution_count": null,
   "id": "a5fa5158",
   "metadata": {},
   "outputs": [],
   "source": []
  },
  {
   "cell_type": "markdown",
   "id": "d2607360",
   "metadata": {},
   "source": [
    "5. Troco em Dólares\n",
    "Peça um valor em Reais, solicite a cotacao atual\n",
    "converta o valor atual para dolar \n",
    "```\n",
    "Valor em R$: 26.00  \n",
    "Valor em USD: 5.00  \n",
    "```"
   ]
  },
  {
   "cell_type": "code",
   "execution_count": null,
   "id": "477824a8",
   "metadata": {},
   "outputs": [],
   "source": []
  },
  {
   "cell_type": "markdown",
   "id": "c2df7007",
   "metadata": {},
   "source": [
    "6. Tempo de Download\n",
    "Calcule o tempo aproximado para baixar um arquivo (em segundos), dado:\n",
    "\n",
    "Tamanho do arquivo (MB)\n",
    "\n",
    "Velocidade da internet (Mbps)\n",
    "Fórmula: tempo = (tamanho * 8) / velocidade\n",
    "Saída esperada:\n",
    "```\n",
    "Tamanho (MB): 100  \n",
    "Velocidade (Mbps): 10  \n",
    "Tempo estimado: 80 segundos   \n",
    "```"
   ]
  },
  {
   "cell_type": "code",
   "execution_count": null,
   "id": "417aee4a",
   "metadata": {},
   "outputs": [],
   "source": []
  },
  {
   "cell_type": "markdown",
   "id": "92a711e3",
   "metadata": {},
   "source": [
    "7. Custo de Combustível por KM\n",
    "Peça o preço do litro e o consumo do carro (km/l). Calcule o custo por km.\n",
    "Saída esperada:\n",
    "```\n",
    "Preço do litro: R$ 6.00  \n",
    "Consumo (km/l): 12  \n",
    "Custo por km: R$ 0.50  \n",
    "```\n"
   ]
  },
  {
   "cell_type": "markdown",
   "id": "1f9b04c5",
   "metadata": {},
   "source": []
  },
  {
   "cell_type": "markdown",
   "id": "8d3ab937",
   "metadata": {},
   "source": [
    "8. Quantidade de Tinta para Parede\n",
    "Calcule quantas latas de tinta são necessárias para pintar uma parede, sabendo que:\n",
    "\n",
    "Cada lata cobre 3m²\n",
    "\n",
    "O usuário deve informar a área da parede (m²)\n",
    "Saída esperada:\n",
    "```\n",
    "Área (m²): 10  \n",
    "Latas necessárias: 4  \n",
    "```"
   ]
  },
  {
   "cell_type": "code",
   "execution_count": null,
   "id": "19d62040",
   "metadata": {},
   "outputs": [],
   "source": []
  },
  {
   "cell_type": "markdown",
   "id": "a68bbd94",
   "metadata": {},
   "source": [
    "9. Salário Líquido\n",
    "Peça o salário bruto e calcule o líquido após descontar 11% de INSS.\n",
    "Saída esperada:\n",
    "```\n",
    "Salário bruto: R$ 3000.00  \n",
    "INSS (11%): R$ 330.00  \n",
    "Salário líquido: R$ 2670.00  \n",
    "```"
   ]
  },
  {
   "cell_type": "code",
   "execution_count": null,
   "id": "fcf675c8",
   "metadata": {},
   "outputs": [],
   "source": []
  },
  {
   "cell_type": "markdown",
   "id": "ede1266f",
   "metadata": {},
   "source": [
    "10. Distância entre Dois Pontos\n",
    "Calcule a distância entre dois pontos (x1, y1) e (x2, y2) usando a fórmula:\n",
    "Fórmula: distância = √((x2 - x1)² + (y2 - y1)²)\n",
    "Dica: Use ** 0.5 para raiz quadrada.\n",
    "Saída esperada:\n",
    "```\n",
    "x1: 1  \n",
    "y1: 2  \n",
    "x2: 4  \n",
    "y2: 6  \n",
    "Distância: 5.0  \n",
    "```"
   ]
  },
  {
   "cell_type": "markdown",
   "id": "8b7853b6",
   "metadata": {},
   "source": []
  }
 ],
 "metadata": {
  "language_info": {
   "name": "python"
  }
 },
 "nbformat": 4,
 "nbformat_minor": 5
}
