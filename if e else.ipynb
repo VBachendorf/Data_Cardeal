{
 "cells": [
  {
   "cell_type": "markdown",
   "id": "40978851",
   "metadata": {},
   "source": [
    "1. Faça um Programa que verifique se uma letra digitada é vogal ou consoante.\n",
    "``` python \n",
    "# operadores or\n",
    "or \n",
    "```"
   ]
  },
  {
   "cell_type": "code",
   "execution_count": null,
   "id": "d6db54d7",
   "metadata": {},
   "outputs": [
    {
     "name": "stdout",
     "output_type": "stream",
     "text": [
      "a letra é uma vogal\n"
     ]
    }
   ],
   "source": [
    "letra = str(input('Digite uma vogal'))\n",
    "\n",
    "if (letra == 'a') or (letra == 'e'):\n",
    "    print('a letra é uma vogal')\n",
    "else:   \n",
    "    print('a letra é uma consoante')"
   ]
  },
  {
   "cell_type": "markdown",
   "id": "dc44b3cb",
   "metadata": {},
   "source": [
    "2. Faça um programa que pede duas notas de um aluno. Em seguida ele deve calcular a média do aluno e dar o seguinte resultado:\n",
    "\n",
    "    A mensagem \"Aprovado\", se a média alcançada for maior ou igual a sete;\n",
    "    A mensagem \"Reprovado\", se a média for menor do que sete;\n",
    "    A mensagem \"Aprovado com Distinção\", se a média for igual a dez."
   ]
  },
  {
   "cell_type": "code",
   "execution_count": null,
   "id": "90d09d17",
   "metadata": {},
   "outputs": [],
   "source": []
  },
  {
   "cell_type": "markdown",
   "id": "a33c5289",
   "metadata": {},
   "source": [
    "3. Faça um Programa que leia três números inteiros e mostre o maior deles.\n"
   ]
  }
 ],
 "metadata": {
  "kernelspec": {
   "display_name": "Python 3",
   "language": "python",
   "name": "python3"
  },
  "language_info": {
   "codemirror_mode": {
    "name": "ipython",
    "version": 3
   },
   "file_extension": ".py",
   "mimetype": "text/x-python",
   "name": "python",
   "nbconvert_exporter": "python",
   "pygments_lexer": "ipython3",
   "version": "3.11.0"
  }
 },
 "nbformat": 4,
 "nbformat_minor": 5
}
