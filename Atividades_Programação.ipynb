{
 "cells": [
  {
   "cell_type": "markdown",
   "metadata": {
    "id": "XmT4P_DvPFds"
   },
   "source": [
    "# Dicas de uso e configuração do Colab\n",
    "---"
   ]
  },
  {
   "cell_type": "markdown",
   "metadata": {
    "id": "ibeuwA98zHkp"
   },
   "source": [
    "* Salvamento\n",
    "** As alterações feitas no arquivo do Colab são salvas automaticamente (mesmo comportamento de documentos do Google Drive). É possível garantir que o arquivo foi salvo pressionando o atalhao `Ctrl+S` ou acessando o menu `Ficheiro` e clicando na opção `Guardar`. Um icone de nuvem com um certinho ao lado do nome do arquivo deverá aparecer para indicar que todas as alterações foram guardadas.\n",
    "\n",
    "* Células\n",
    "** As células do Colab são divididas em células de código, usadas para escrever e executar programas, e células de texto, usadas para fazer anotações.\n",
    "** Você pode adicionar novas células no Colab ao clicar em `+Código` ou `+Texto` no canto superior esquerdo da tela.\n",
    "** O conteúdo de cada célula textual pode ser editado ao clicar sobre a mesma duas vezes.\n",
    "** As configurações e opções de cada célula aparecem em uma barra superior a direita após clicar sobre a mesma.\n",
    "\n",
    "\n",
    "* Código\n",
    "** Para executar uma célula de código basta clicar no botão que aparece ao colocar o mouse no canto esquerdo (dentro dos colchetes).\n",
    "** A primeira execução de uma célula de código no Colab demorará um pouco mais pois o serviço de execução no servidor será inicializado.\n",
    "** A saída padrão do código, se utilizada, será impressa logo abaixo da célula executada.\n",
    "** O contexto de programação é único dentro do mesmo arquivo do Colab, ou seja, o interpretador do programa considerará que todas as células executadas fazem parte de um mesmo programa/contexto e usará a sequência em que foram executadas.\n",
    "** Células de código que não foram executadas não serão consideradas no contexto do programa.\n",
    "** O contexto do programa pode ser reinicializada dentro do Colab o menu `Tempo de execução`, opção `Reiniciar sessão`.\n",
    "\n",
    "\n",
    "* Configurações sugeridas\n",
    "** Acesse o painel de configurações do Colab no menu superior, opção `Ferramentas`, `Definições`.\n",
    "** Na opção `Site` (menu lateral), mude o tema para dark.\n",
    "** Na opção `Editor`, configure o tamanho da letra conforme sua preferência, altere a `Largura de avanço nos espaços` para o valor 4 (refere-se a quantidade de espaços dados ao usar a tecla tab no código) e marque a opção `Mostrar número de linha`.\n",
    "** Na opção `Assistência de IA` desmarque a opção `Mostrar conclusões de código baseadas em IA`. Embora a assistência de IA possa ser útil no dia a dia de um programador, ela pode prejudicar o aprendizado de alguns conceitos durantes as aulas."
   ]
  },
  {
   "cell_type": "markdown",
   "metadata": {
    "id": "kkMzazc_L5n1"
   },
   "source": [
    "#Introdução à linguagem de programação Python\n",
    "---"
   ]
  },
  {
   "cell_type": "markdown",
   "metadata": {
    "id": "4dZY4jU6MYfb"
   },
   "source": [
    "Python é uma linguagem de programação de uso geral que foi concebida por Guido Van Rossun e teve sua primeira versão lançada em 1991. No entanto, ganhou popularidade sobretudo a partir de 2016, tornando-se a linguagem atual mais utilizada em aplicações de aprendizado de máquina e inteligência artificial. Também é muito popular em aplicações Web e na área de ciência de dados.\n",
    "\n",
    "* Características do Python\n",
    "** É uma linguagem interpretada e com paradigma de programação predominante a orientação a objetos\n",
    "** Suporta outros paradigmas de programação, como procedural e funcional\n",
    "** É portátil, podendo ser executada em várias plataformas, como Linux, MacOS e Windows\n",
    "** É uma linguagem de código aberto\n",
    "** É considerada atrativa para quem quer começar a programar por ter sintaxe simplificada\n",
    "** É versátil e flexível, podendo ser usada para uma ampla variedade de tarefas\n",
    "\n",
    "* Outras linguagens de programação bastante populares atualmente são:\n",
    "** C (lançada em 1972) - linguagem de paradigma procedural que é reconhecida até hoje pela alta eficiência computacional\n",
    "** C++ (lançada em 1979, padronizada em 1998) - adiciona recursos de orientação a objetos à linguagem C\n",
    "** Java (lançada em 1995) - baseada na linguagem C mas com um paradigma forte em orientação a objetos e foco em portabilidade com aplicações Desktop e aplicações Web\n",
    "** Javascript (lançada em 1995) - linguagem muito utilizada para aplicações Web. Apesar do nome parecido não é relacionada com a linguagem Java"
   ]
  },
  {
   "cell_type": "markdown",
   "metadata": {
    "id": "bftcT3I1XGQx"
   },
   "source": [
    "##Variáveis\n",
    "---\n",
    "\n",
    "\n"
   ]
  },
  {
   "cell_type": "markdown",
   "metadata": {
    "id": "FBqPIrQ_LNtQ"
   },
   "source": [
    "\n",
    "Variáveis são responsáveis por armazenar dados durante a execução de um programa na memória principal (RAM) do computador.\n",
    "\n",
    "Na linguagem de programação Python, para declarar (criar) uma variável dentro de um programa basta dar um nome (identificador) e associar a variável a um valor inicial com o operador de atribuição.\n",
    "\n",
    "Abaixo mostramos um exemplo da criação de uma variável com o nome `x` que armazena o valor `5`.\n",
    "```python\n",
    "x = 5\n",
    "```\n",
    "O sinal `=`, dentro desse contexto, é chamado de `operador de atribuição` e serve para atribuir um novo valor a uma variável.\n",
    "\n",
    "Existem algumas regras para definição de nomes (identificadores) de variáveis dentro da linguagem de programação Python:\n",
    "\n",
    "* Um identificador de variável deve começar com letras ou com o símbolo underscore (_);\n",
    "* Não é permitido começar com números ou caracteres especiais (*, -, #, &, entre outros);\n",
    "* No Python o padrão mais utilizado é o uso do underscore (_) para separar as palavras de um nome composto ou longo (nome_composto) pois um nome de variável não pode conter espaços;\n",
    "* Caixa alta e baixa são reconhecidos como caracteres diferentes; No Python o padrão mais utilizado é o uso de apenas caracteres mínusculos para nomear variáveis;\n",
    "* O ideal é que o identificador de uma variável seja nome significativo dentro do contexto do problema."
   ]
  },
  {
   "cell_type": "markdown",
   "metadata": {
    "id": "EVopA4gD1__6"
   },
   "source": [
    "##Tipos de Dados\n",
    "\n",
    "\n",
    "---\n",
    "\n"
   ]
  },
  {
   "cell_type": "markdown",
   "metadata": {
    "id": "9Aq0uKH1KL8t"
   },
   "source": [
    "Cada variável é associada a um tipo, de acordo com o valor armazenado por ela.\n",
    "\n",
    "Python é uma linguagem `dinamicamente tipada` pois o programador não precisa predefenir o tipo da variável no código fonte. O tipo da variável é associado automaticamente pelo interpretador da linguagem de acordo com o dado armazenado na variável durante a execução do programa. Além disso, o tipo da variável em Python pode mudar livremente quando o dado armazenado muda de valor.\n",
    "\n",
    "Note que, embora possa assumir diferentes valores no decorrer de um programa, uma variável somente pode armazenar um único valor a cada instante. Isto é, ao receber um novo valor, o valor anterior é sobrescrito (portanto, perdido).\n",
    "\n",
    "Os tipos mais comuns de variáveis são os seguintes:\n",
    "\n",
    "> `int` (inteiros) - números inteiros\n",
    "\n",
    "> `float` (ponto flutuante) - números reais\n",
    ">> Usamos o `.` para separar a parte inteira da parte decimal do número (padrão da linguagem inglesa)\n",
    "\n",
    "> `bool` (booleanos) - apenas os valores `False` ou `True`\n",
    "\n",
    "> `str` (strings) - sequência imutável de caracteres Unicode (padrão de codificação de caracteres textuais)\n",
    ">> Usamos aspas simples `'` ou duplas `\"` para indicar o início e o final de uma string\n",
    "\n",
    "Abaixo mostramos um exemplo da criação de variáveis dos tipos `int`, `float`, `bool` e `str`.\n",
    "```python\n",
    "var_tipo_int = 2\n",
    "var_tipo_int2 = -961\n",
    "var_tipo_int3 = 0\n",
    "var_tipo_float = 1.5\n",
    "var_tipo_float2 = -0.75\n",
    "var_tipo_float3 = 1.0\n",
    "var_tipo_bool = True\n",
    "var_tipo_bool2 = False\n",
    "var_tipo_str = 'texto delimitado com aspas simples'\n",
    "var_tipo_str2 = \"texto delimitado com aspas duplas\"\n",
    "var_tipo_str3 = \"armazenam qualquer tipo de caractere (*&308,{[/,|%$#.;)\"\n",
    "var_tipo_str4 = \"os caracteres de aspas (duplas e simples) e de contrabarra devem ser precedidos de uma contrabarra Ex: \\\" \\' \\\\\"\n",
    "```"
   ]
  },
  {
   "cell_type": "markdown",
   "metadata": {
    "id": "XDQIgwan42yS"
   },
   "source": [
    "##Comentários\n",
    "---\n"
   ]
  },
  {
   "cell_type": "markdown",
   "metadata": {
    "id": "BYgK72uIfYMP"
   },
   "source": [
    "É possível (e em muitos casos, recomendável) que se\n",
    "adicione comentários no código do programa para facilitar sua\n",
    "compreensão e manutenção futura. Os comentários serão\n",
    "totalmente ignorados pelo interpretador da\n",
    "linguagem durante a execução do programa.\n",
    "\n",
    "Em Python, os comentários de uma linha são especificados após o caractere `#`.\n",
    "\n",
    "```python\n",
    "# toda esta linha será ignorada\n",
    "x = 0 # assim como o restante desta linha\n",
    "```\n",
    "Também é possível utilizar comentários de múltiplas linhas delimitando seu início/fim por três aspas (simples ou duplas).\n",
    "\n",
    "```python\n",
    "'''um comentário\n",
    "de várias linhas,\n",
    "sendo que todas serão\n",
    "ignoradas pelo interpretador'''\n",
    "x = 2 # variável criada e comentário na mesma linha\n",
    "\"\"\"\n",
    "y = 10\n",
    "a variável y não é criada pois o comando está dentro de um comentário\n",
    "\"\"\"\n",
    "```"
   ]
  },
  {
   "cell_type": "markdown",
   "metadata": {
    "id": "ZU4m2lLtGkvN"
   },
   "source": [
    "## Funções\n",
    "---"
   ]
  },
  {
   "cell_type": "markdown",
   "metadata": {
    "id": "C63MUIV3Ymsq"
   },
   "source": [
    "Uma função, segundo a matemática, é uma relação entre dois conjuntos na qual há uma correspondência entre elementos de um conjunto A (domínio ou conjunto de entrada) com elementos de um conjunto B (contradomínio ou conjunto de saída). Além disso, cada elemento do conjunto A precisa ter um único correspondente no conjunto B.\n",
    "\n",
    "O conceito de função aplicado à programação é o mesmo da matematica mas podemos traduzí-lo em termos usados nos algoritmos. Uma função é um trecho de código que pode receber argumentos de entrada (também chamados de `parâmetros` da função), realizar `ações específicas` (mapeamento da função) e `retornar` um valor como saída. Também podemos chamar este recurso de subprograma ou subrotina.\n",
    "\n"
   ]
  },
  {
   "cell_type": "markdown",
   "metadata": {
    "id": "6lT5fNwJYsDr"
   },
   "source": [
    "### Funções predefinidas\n",
    "---"
   ]
  },
  {
   "cell_type": "markdown",
   "metadata": {
    "id": "A566WqNwYx-h"
   },
   "source": [
    "O Python possui uma série de funções predefinidas, as quais fazem parte da Biblioteca padrão da linguagem. Alguns exemplos de funções muito utilizadas são as funções de saída e entrada de dados com o usuário e de conversão de tipos de dados:\n",
    "\n",
    "* usamos a função `input()` sempre que precisamos obter algum dado digitado pelo usuário;\n",
    "* usamos a função `print()` quando precisamos exibir informação na tela;\n",
    "* usamos a função `int()` quando precisamos converter um dado numérico de outro tipo para inteiro;\n",
    "* usamos a função `float()` quando precisamos converter um dado numérico de outro tipo para ponto flutuante;\n",
    "* usamos a função `str()` quando precisamos converter um dado de outro tipo para string;\n",
    "* usamos a função `bool()` quando precisamos converter um dado de outro tipo para booleano.\n",
    "\n",
    "Veja [aqui](https://docs.python.org/pt-br/3/library/functions.html) a lista com todas as funções predefinidas que estão disponíveis na versão padrão do Python.\n",
    "\n",
    "Estas funções nos poupam trabalho, pois ao invés de digitar todos os comandos necessários para obter determinada funcionalidade em nosso programa, simplesmente chamamos uma função já existente que realiza a tarefa e nos devolve o resultado. Não precisamos sequer saber como essa função foi implementada, mas é importante estudarmos o seu funcionamento em alguns casos.\n",
    "\n",
    "Abaixo mostramos alguns exemplos de uso de funções:"
   ]
  },
  {
   "cell_type": "code",
   "execution_count": 3,
   "metadata": {
    "id": "s_DlBiPwYxiZ"
   },
   "outputs": [
    {
     "name": "stdout",
     "output_type": "stream",
     "text": [
      "5\n",
      "5.6\n",
      "7.87\n",
      "True\n",
      "5\n",
      "1\n",
      "0\n",
      "7\n",
      "7\n"
     ]
    }
   ],
   "source": [
    "v_int = 5 # variável do tipo int\n",
    "v_float = 5.6 # variável do tipo str\n",
    "v_str = \"7.87\" # variável do tipo str\n",
    "v_bool = True # variável do tipo bool\n",
    "# imprime os valores das variáveis a, b, c e d\n",
    "print(v_int)\n",
    "print(v_float)\n",
    "print(v_str)\n",
    "print(v_bool)\n",
    "v_int + v_float\n",
    "e = int(v_float)\n",
    "print(e) # note que o valor original é truncado ao ser convertido para inteiro (apenas a parte inteira do número permanece)\n",
    "e = int(v_bool)\n",
    "print(e) # True sempre é convertido para o valor 1 enquanto False para o valor 0\n",
    "e = int(False)\n",
    "print(e)\n",
    "#e = int(v_str) # a função não consegue converter diretamente o texto para inteiro pois o número é real\n",
    "e = float(v_str) # primeiro converte o texto para float e depois para inteiro para funcionar\n",
    "e = int(e)\n",
    "print(e)\n",
    "print(int(float(v_str))) # podemos compor funções para digitar menos linhas de código"
   ]
  },
  {
   "cell_type": "markdown",
   "metadata": {
    "id": "hRtvR-zQZV86"
   },
   "source": [
    "### Exercício 1: teste as conversões de diferentes valores e tipos para booleano. Identifique (baseado apenas nos seus testes) qual é o critério usado pela função `bool()` na conversão."
   ]
  },
  {
   "cell_type": "code",
   "execution_count": 4,
   "metadata": {
    "id": "6q4XxYQ5Z1ZW"
   },
   "outputs": [
    {
     "name": "stdout",
     "output_type": "stream",
     "text": [
      "<class 'float'>\n",
      "False\n"
     ]
    }
   ],
   "source": [
    "# Resolução do exercício 1\n",
    "\n",
    "#valor = ''\n",
    "#print(type(valor))\n",
    "#int_to_bool = bool(valor)\n",
    "#print(int_to_bool)\n",
    "valor_float = float()\n",
    "print(type(valor_float))\n",
    "print(bool(valor_float))"
   ]
  },
  {
   "cell_type": "markdown",
   "metadata": {
    "id": "vI8apySg9rbj"
   },
   "source": [
    "Há funções que precisam receber um número fixo de argumentos de entrada, como `int()`, que exige 1 valor. Experimente chamar `int()` com nenhum ou com mais de 1 valor e verá um erro.\n",
    "\n",
    "Outras funções, como `print()`, admitem parâmetros opcionais, podendo receber nenhum ou vários valores como parâmetros. Além disso, algumas funções só aceitam parâmetros de determinados tipos. Pesquise e observe sempre a [documentação](https://docs.python.org/pt-br/3.13/) da linguagem para saber a quantidade/obrigatoriedade dos parâmetros."
   ]
  },
  {
   "cell_type": "code",
   "execution_count": 5,
   "metadata": {
    "id": "4dYS0ZYh-FWM"
   },
   "outputs": [
    {
     "name": "stdout",
     "output_type": "stream",
     "text": [
      "\n",
      "hello\n",
      "hello world !\n"
     ]
    }
   ],
   "source": [
    "print() # chamando a função sem nenhum argumento de entrada (imprime linha em branco)\n",
    "print(\"hello\") # chamando a função com 1 parâmetro\n",
    "x = \"hello\"\n",
    "print(x, \"world\", \"!\") # chamando a função com 3 parâmetros (note que separamos os valores dos parâmetros por vírgulas)"
   ]
  },
  {
   "cell_type": "markdown",
   "metadata": {
    "id": "UIBU-CbaI831"
   },
   "source": [
    "###Aprofundando o uso da função `print()`\n",
    "---\n",
    "\n"
   ]
  },
  {
   "cell_type": "markdown",
   "metadata": {
    "id": "SuM4bueShXVt"
   },
   "source": [
    "\n",
    "Podemos usar parâmetros especiais para imprimir um texto seguindo um determinado formato.\n",
    "\n",
    "No exemplo abaixo, cada `\\n` cria uma quebra de linha no resultado impresso, enquanto as contrabarras são utilizadas apenas para `escapar` caracteres reservados/especiais nas strings."
   ]
  },
  {
   "cell_type": "code",
   "execution_count": 6,
   "metadata": {
    "colab": {
     "base_uri": "https://localhost:8080/"
    },
    "executionInfo": {
     "elapsed": 276,
     "status": "ok",
     "timestamp": 1739385711321,
     "user": {
      "displayName": "Felipe Grando",
      "userId": "11308183246720689603"
     },
     "user_tz": 180
    },
    "id": "YbVH5ofOXuoH",
    "outputId": "88afb2d0-20e0-46d9-e0b0-553642ded9e5"
   },
   "outputs": [
    {
     "name": "stdout",
     "output_type": "stream",
     "text": [
      "\n",
      "\n",
      "\"Primeira linha.\"\\ \\ \n",
      "Segunda linha.\n",
      "\n",
      "\n",
      "Terceira linha\n"
     ]
    }
   ],
   "source": [
    "print(\"\\n\\n\\\"Primeira linha.\\\"\\\\ \\\\ \\nSegunda linha.\\n\\n\\nTerceira linha\")"
   ]
  },
  {
   "cell_type": "markdown",
   "metadata": {
    "id": "RfmAqJ5d-6pb"
   },
   "source": [
    "\n",
    "###Exercício 2: imprima o texto abaixo (respeitando o formato demostrado) usando apenas uma chamada da função  `print()`.\n",
    "\n",
    "```\n",
    "\"Que a força esteja com você\" {Jedi, Star Wars}.\n",
    "\"A verdadeira coragem não está em saber quando tirar uma vida, mas, sim, em quando poupar uma\" {Gandalf, Senhor dos Anéis}.\n",
    "\n"
   ]
  },
  {
   "cell_type": "code",
   "execution_count": 1,
   "metadata": {},
   "outputs": [
    {
     "name": "stdout",
     "output_type": "stream",
     "text": [
      " \"Que a força esteja com você\" {Jedi, Star Wars}.\n",
      "\"A verdadeira coragem não está em saber quando tirar uma vida, mas, sim, em quando poupar uma\" {Gandalf, Senhor dos Anéis}.\n"
     ]
    }
   ],
   "source": [
    "print(\"\"\" \"Que a força esteja com você\" {Jedi, Star Wars}.\\n\"A verdadeira coragem não está em saber quando tirar uma vida, mas, sim, em quando poupar uma\" {Gandalf, Senhor dos Anéis}.\"\"\" )"
   ]
  },
  {
   "cell_type": "code",
   "execution_count": 7,
   "metadata": {
    "colab": {
     "base_uri": "https://localhost:8080/"
    },
    "executionInfo": {
     "elapsed": 72,
     "status": "ok",
     "timestamp": 1742316544447,
     "user": {
      "displayName": "Anahy Cristal Marsolin",
      "userId": "11580221437239793208"
     },
     "user_tz": 180
    },
    "id": "7OADA4AvLANt",
    "outputId": "31ffacd8-bf53-4de1-fc9b-62f100fe4144"
   },
   "outputs": [
    {
     "name": "stdout",
     "output_type": "stream",
     "text": [
      "\"Que a força esteja com você\" {Jedi, Star Wars}.\n",
      "\"A verdadeira coragem não está em saber quando tirar uma vida, mas, sim, em quando poupar uma\" {Gandalf, Senhor dos Anéis}.\n"
     ]
    }
   ],
   "source": [
    "# Resolução do exercício 2\n",
    "print('\"Que a força esteja com você\" {Jedi, Star Wars}.\\n\"A verdadeira coragem não está em saber quando tirar uma vida, mas, sim, em quando poupar uma\" {Gandalf, Senhor dos Anéis}.')"
   ]
  },
  {
   "cell_type": "markdown",
   "metadata": {
    "id": "IjIdkx5SSkvP"
   },
   "source": [
    "É possível imprimir o valor de variáveis separando-as do texto fixo por meio de vírgulas."
   ]
  },
  {
   "cell_type": "code",
   "execution_count": 5,
   "metadata": {
    "id": "LAViPffcJCT7"
   },
   "outputs": [
    {
     "name": "stdout",
     "output_type": "stream",
     "text": [
      "O valor da variável a é 10 e o valor de b é texto outra informação pode ser impressa em seguida\n"
     ]
    }
   ],
   "source": [
    "a = 10\n",
    "b = \"texto\"\n",
    "print(\"O valor da variável a é\", a, \"e o valor de b é\", b, \"outra informação pode ser impressa em seguida\")"
   ]
  },
  {
   "cell_type": "markdown",
   "metadata": {
    "id": "Nf73EMSrSt9Z"
   },
   "source": [
    "Ou utilizando o parâmetro `f` no início da mensagem. Neste caso, as variáveis permanecem dentro das aspas, mas delimitadas por chaves."
   ]
  },
  {
   "cell_type": "code",
   "execution_count": 9,
   "metadata": {
    "id": "Cp2tcQjBJXHo"
   },
   "outputs": [
    {
     "name": "stdout",
     "output_type": "stream",
     "text": [
      "O valor de a é 10, já o valor de b é texto\n"
     ]
    }
   ],
   "source": [
    "a = 10\n",
    "b = \"texto\"\n",
    "print(f\"O valor de a é {a}, já o valor de b é {b}\")"
   ]
  },
  {
   "cell_type": "markdown",
   "metadata": {
    "id": "0pjONPGdTLtV"
   },
   "source": [
    "É possível definir o número de casas decimais na exibição de número reais conforme mostrado no exemplo abaixo."
   ]
  },
  {
   "cell_type": "code",
   "execution_count": 16,
   "metadata": {
    "colab": {
     "base_uri": "https://localhost:8080/"
    },
    "executionInfo": {
     "elapsed": 9,
     "status": "ok",
     "timestamp": 1742343824346,
     "user": {
      "displayName": "Anahy Cristal Marsolin",
      "userId": "11580221437239793208"
     },
     "user_tz": 180
    },
    "id": "JULK3tn3SFu_",
    "outputId": "1eb32bf5-6b0a-4175-e515-be6d778b85b4"
   },
   "outputs": [
    {
     "name": "stdout",
     "output_type": "stream",
     "text": [
      "Dados do aluno:\n",
      "\n",
      "CPF: 123321\n",
      "CPF: 123321\n"
     ]
    }
   ],
   "source": [
    "cpf = 123321\n",
    "print('Dados do aluno:')\n",
    "print()\n",
    "print(f\"CPF: {cpf}\") \n",
    "print('CPF:',cpf)\n"
   ]
  },
  {
   "cell_type": "markdown",
   "metadata": {
    "id": "MjrSGXbdP2Nm"
   },
   "source": [
    "###Exercício  3: crie variáveis para armazenar os dados (valores: 1233232, João da Silva, Rua 123454 e 8.76) de um aluno. Em seguida, crie um programa que imprima os valores no formato exatamente igual ao exemplo abaixo:\n",
    "\n",
    "```\n",
    "Dados do aluno:\n",
    "\n",
    "CPF: 1233232\n",
    "Nome: Joao da Silva\n",
    "Endereço: Rua 123454\n",
    "Média: 8.76\n"
   ]
  },
  {
   "cell_type": "code",
   "execution_count": null,
   "metadata": {
    "colab": {
     "base_uri": "https://localhost:8080/"
    },
    "executionInfo": {
     "elapsed": 18,
     "status": "ok",
     "timestamp": 1742317162238,
     "user": {
      "displayName": "Anahy Cristal Marsolin",
      "userId": "11580221437239793208"
     },
     "user_tz": 180
    },
    "id": "h2Hkt3DSrPwn",
    "outputId": "9ab0ccf4-3632-4800-9026-c918df788457"
   },
   "outputs": [],
   "source": []
  },
  {
   "cell_type": "markdown",
   "metadata": {
    "id": "_J1KbjDNtc5S"
   },
   "source": [
    "###Entrada de dados com a função `input()`\n",
    "---\n"
   ]
  },
  {
   "cell_type": "markdown",
   "metadata": {
    "id": "iu6Gp8-Fh7cw"
   },
   "source": [
    "A função ``input`` (entrada) é utilizado para receber dados de forma textual (digitados) pelo usuário durante a execução do programa.\n",
    "\n",
    "É necessário armazenar a informação digitada pelo usuário em uma variável para poder utilizá-la posteriormente no código.\n",
    "\n",
    "Observe que o retorno da função `input` é, por padrão, do tipo textual (`str`). Podemos usar a função `type()` para verificar o tipo de uma variável."
   ]
  },
  {
   "cell_type": "code",
   "execution_count": 11,
   "metadata": {
    "colab": {
     "base_uri": "https://localhost:8080/"
    },
    "executionInfo": {
     "elapsed": 6683,
     "status": "ok",
     "timestamp": 1742317794772,
     "user": {
      "displayName": "Anahy Cristal Marsolin",
      "userId": "11580221437239793208"
     },
     "user_tz": 180
    },
    "id": "OJNE9lGMzdPX",
    "outputId": "3102c28c-1586-48d6-e48e-c105a2bb73ef"
   },
   "outputs": [
    {
     "name": "stdout",
     "output_type": "stream",
     "text": [
      "O nome do usuário é  e tem  anos.\n",
      "<class 'str'>\n"
     ]
    }
   ],
   "source": [
    "nome = input(\"Informe o seu nome: \")\n",
    "idade = input(\"Informe a sua idade: \")\n",
    "print(f\"O nome do usuário é {nome} e tem {idade} anos.\")\n",
    "print(type(idade))"
   ]
  },
  {
   "cell_type": "markdown",
   "metadata": {
    "id": "39dPUR14zy2X"
   },
   "source": [
    "\n",
    "Pode ser necessário realizar a conversão (`casting`) do valor lido para um tipo desejado antes de realizar o seu processamento.\n",
    "\n",
    "Em Python, as funções que realizam a conversão de um dado em um tipo específico são:\n",
    "\n",
    "* `int()` converte o valor entre parênteses para o\n",
    "tipo inteiro.\n",
    "\n",
    "* `float()` converte o valor entre parênteses para o tipo float.\n",
    "\n",
    "* `str()` converte o valor entre parênteses para o tipo string.\n",
    "\n",
    "* `bool()` converte o valor entre parênteses para o tipo booleano.\n"
   ]
  },
  {
   "cell_type": "code",
   "execution_count": 12,
   "metadata": {
    "colab": {
     "base_uri": "https://localhost:8080/"
    },
    "executionInfo": {
     "elapsed": 2443,
     "status": "ok",
     "timestamp": 1742317806071,
     "user": {
      "displayName": "Anahy Cristal Marsolin",
      "userId": "11580221437239793208"
     },
     "user_tz": 180
    },
    "id": "TBdVcULa1enN",
    "outputId": "251bfb96-7fe2-4590-c8bf-4dadc57c9c15"
   },
   "outputs": [
    {
     "ename": "ValueError",
     "evalue": "invalid literal for int() with base 10: ''",
     "output_type": "error",
     "traceback": [
      "\u001b[31m---------------------------------------------------------------------------\u001b[39m",
      "\u001b[31mValueError\u001b[39m                                Traceback (most recent call last)",
      "\u001b[36mCell\u001b[39m\u001b[36m \u001b[39m\u001b[32mIn[12]\u001b[39m\u001b[32m, line 1\u001b[39m\n\u001b[32m----> \u001b[39m\u001b[32m1\u001b[39m idade = \u001b[38;5;28;43mint\u001b[39;49m\u001b[43m(\u001b[49m\u001b[38;5;28;43minput\u001b[39;49m\u001b[43m(\u001b[49m\u001b[33;43m\"\u001b[39;49m\u001b[33;43mInforme a sua idade: \u001b[39;49m\u001b[33;43m\"\u001b[39;49m\u001b[43m)\u001b[49m\u001b[43m)\u001b[49m\n\u001b[32m      2\u001b[39m \u001b[38;5;28mprint\u001b[39m(\u001b[38;5;28mtype\u001b[39m(idade))\n\u001b[32m      3\u001b[39m aposentadoria = \u001b[32m70\u001b[39m - idade\n",
      "\u001b[31mValueError\u001b[39m: invalid literal for int() with base 10: ''"
     ]
    }
   ],
   "source": [
    "idade = int(input(\"Informe a sua idade: \"))\n",
    "print(type(idade))\n",
    "aposentadoria = 70 - idade\n",
    "print(f\"Faltam {aposentadoria} anos para poder se aposentar por idade\")"
   ]
  },
  {
   "cell_type": "markdown",
   "metadata": {
    "id": "9iR0LBffsyhx"
   },
   "source": [
    "### Exercício 4: leia um número e mostre na tela seu sucessor e seu antecessor.\n",
    "\n",
    "\n"
   ]
  },
  {
   "cell_type": "code",
   "execution_count": null,
   "metadata": {},
   "outputs": [],
   "source": [
    "numero = int(input('digite um número'))\n",
    "antecessor = numero -1\n",
    "sucessor = numero +1\n",
    "print(' o numero é ',numero )\n",
    "print(' o sucessor  é ',sucessor )\n",
    "print(' o antecessor é ',antecessor )"
   ]
  },
  {
   "cell_type": "code",
   "execution_count": 2,
   "metadata": {
    "colab": {
     "base_uri": "https://localhost:8080/"
    },
    "executionInfo": {
     "elapsed": 3118,
     "status": "ok",
     "timestamp": 1742317923253,
     "user": {
      "displayName": "Anahy Cristal Marsolin",
      "userId": "11580221437239793208"
     },
     "user_tz": 180
    },
    "id": "3Lza6dhHQHgG",
    "outputId": "72b16690-083d-441b-f8de-aa0f62498984"
   },
   "outputs": [
    {
     "name": "stdout",
     "output_type": "stream",
     "text": [
      "O numero é 45, o antecessor é 44 O SUCESSOR É 46\n"
     ]
    }
   ],
   "source": [
    "# Resolução do exercí\n",
    "N = int(input(\"Informe um número: \"))\n",
    "print(f'O numero é {N}, o antecessor é {N-1} O SUCESSOR É {N+1}')"
   ]
  },
  {
   "cell_type": "markdown",
   "metadata": {
    "id": "AMBd5AOkihMa"
   },
   "source": [
    "## Expressões\n",
    "\n",
    "---\n",
    "\n"
   ]
  },
  {
   "cell_type": "markdown",
   "metadata": {
    "id": "q9cwtpPci0e2"
   },
   "source": [
    "Já vimos como realizar a saída de dados por meio da função `print()`, bem como  a entrada de dados através da função `input()`.\n",
    "\n",
    "Agora, veremos como realizar o processamento dos dados, isto é, realizar operações sobre os dados obtidos, visando produzir saídas que atendam à finalidade do nosso programa.\n",
    "\n",
    "Muitas destas operações sobre os dados envolverão algum tipo de cálculo ou comparação utilizando diferentes operadores aritméticos, relacionais e/ou lógicos, os quais veremos a seguir."
   ]
  },
  {
   "cell_type": "markdown",
   "metadata": {
    "id": "KRibM2AsGRgO"
   },
   "source": [
    "### Expressões Algébricas\n",
    "---\n",
    "\n"
   ]
  },
  {
   "cell_type": "markdown",
   "metadata": {
    "id": "vIFLWirCLJcl"
   },
   "source": [
    "As **expressões algébricas** são definidas por um conjunto de termos (variáveis ou numéricos) intercalados por operadores matemáticos.\n",
    "\n",
    "Alguns símbolos usados na matemática são trocados por outros símbolos para simplificar a digitação usando o teclado convencional conforme tabela abaixo.\n",
    "\n",
    "|Operador|Operação|Resultado|\n",
    "|:-:|-|-|\n",
    "|+|Adição|Soma|\n",
    "|-|Subtração|Diferença ou Resto|\n",
    "|*|Multiplicação|Produto|\n",
    "|/|Divisão|Quociente|\n",
    "|//|Divisão Inteira|Quociente inteiro|\n",
    "|%|Módulo|Resto da divisão inteira|\n",
    "|**|Potenciação ou Exponenciação|Potência|\n",
    "|Não possui|Radiciação|Raíz|\n",
    "\n",
    "Diferentes linguagens de programação podem usar símbolos diferentes para algumas das operações.\n",
    "\n",
    "Veremos exemplos dessas operações abaixo."
   ]
  },
  {
   "cell_type": "code",
   "execution_count": null,
   "metadata": {
    "colab": {
     "base_uri": "https://localhost:8080/"
    },
    "executionInfo": {
     "elapsed": 68,
     "status": "ok",
     "timestamp": 1742318334785,
     "user": {
      "displayName": "Anahy Cristal Marsolin",
      "userId": "11580221437239793208"
     },
     "user_tz": 180
    },
    "id": "T0c8kGQ2HADi",
    "outputId": "2f277547-b4ed-4288-c0c5-94e7c89423fb"
   },
   "outputs": [],
   "source": [
    "# adição\n",
    "valor = 7 + 3\n",
    "print(valor)\n",
    "\n",
    "# subtração\n",
    "valor = 7 - 3\n",
    "print(valor)\n",
    "\n",
    "# multiplicação\n",
    "valor = 7 * 3\n",
    "print(valor)\n",
    "\n",
    "# divisão real\n",
    "valor = 7 / 3\n",
    "print(valor)\n",
    "\n",
    "# divisão inteira\n",
    "valor = 7 // 3\n",
    "print(valor)\n",
    "\n",
    "# resto\n",
    "valor = 7 % 3\n",
    "print(valor)\n",
    "\n",
    "# potenciação\n",
    "valor = 7 ** 3\n",
    "print(valor)\n",
    "# podemos fazer a radiciação usando o operador de exponenciação e invertendo o expoente (índice da raíz)\n",
    "# radiciação (cuidado ao realizar a operação com radicandos negativos)\n",
    "valor = 9 ** (1/2)\n",
    "print(valor)\n",
    "valor = 8 ** (1/3)\n",
    "print(valor)"
   ]
  },
  {
   "cell_type": "code",
   "execution_count": 3,
   "metadata": {},
   "outputs": [
    {
     "name": "stdout",
     "output_type": "stream",
     "text": [
      "olá\n",
      "olá\n",
      "olá\n",
      "olá\n",
      "olá\n",
      "olá\n",
      "olá\n",
      "olá\n",
      "olá\n",
      "olá\n"
     ]
    }
   ],
   "source": [
    "for i in range(10):\n",
    "    print('olá')"
   ]
  },
  {
   "cell_type": "markdown",
   "metadata": {
    "id": "e2MhTzagmvuZ"
   },
   "source": [
    "#### Precedência de operadores aritméticos"
   ]
  },
  {
   "cell_type": "markdown",
   "metadata": {
    "id": "Bu74SJhnnM7t"
   },
   "source": [
    "A ordem de execução das operações pode afetar o resultado. Portanto é importante em muitos casos conhecer a ordem em que eles serão analisados pelo programa para que o comportamento desejado seja o executado.\n",
    "\n",
    "No exemplo abaixo, em que ordem as operações são executadas?"
   ]
  },
  {
   "cell_type": "code",
   "execution_count": null,
   "metadata": {
    "id": "ZbNhQTmllOuB"
   },
   "outputs": [],
   "source": [
    "x = 1 + 2 * 3 - 4 / 5 ** 2 ** 0\n",
    "print(x)"
   ]
  },
  {
   "cell_type": "markdown",
   "metadata": {
    "id": "qBzkMd6jliVi"
   },
   "source": [
    "Existe uma ordem de precedência que define quais operações são executadas/avaliadas primeiro. A ordem de precedência utilizada pelas linguagens de programação é a mesma utilizada na matemática.\n",
    "A ordem de precedência dos operadores aritméticos é a seguinte:\n",
    "\n",
    "1.   Operação entre parênteses\n",
    "2.   Exponenciação (da direita para a esquerda quando houver mais de uma na mesma linha)\n",
    "3.   Multiplicação, divisão real, divisão inteira e módulo (da esquerda para a direita)\n",
    "4.   Adição e subtração (da esquerda para a direita)\n",
    "\n",
    "No exemplo logo acima, a ordem é:\n",
    "\n",
    "*   `2 ** 0` &nbsp;&nbsp;(exponenciação mais à direita)\n",
    "*   `5 ** 1` &nbsp;&nbsp;(próxima exponenciação mais à direita)\n",
    "*   `2 * 3`  &nbsp;&nbsp;&nbsp;&nbsp;(multiplicação &ndash; vem antes da divisão, pois está mais à esquerda)\n",
    "*   `4 / 5` &nbsp;&nbsp;&nbsp;&nbsp;(divisão)\n",
    "*   `1 + 6` &nbsp;&nbsp;&nbsp;&nbsp;(soma &ndash; vem antes da subtração, pois está mais à esquerda)\n",
    "*   `7 - 0.8` (subtração)\n",
    "\n",
    "Podemos escrever a mesma expressão com o uso de parênteses, sem alterar a ordem de precedência, apenas para dar maior clareza na leitura da expressão.\n",
    "*   `x = ((1 + (2 * 3)) - (4 / (5 ** (2 ** 0))))`\n",
    "Ou, podemos usar os parentêses quando desejamos que a ordem de execução dos operadores seja diferente da ordem de precedência padrão. Por exemplo, se desejamos que a subtração seja executada por primeiro podemos deixá-la entre parênteses.\n",
    "*   `x = 1 + 2 * (3 - 4) / 5 ** 2 ** 0`"
   ]
  },
  {
   "cell_type": "code",
   "execution_count": null,
   "metadata": {
    "id": "p8OMBSAqfqqW"
   },
   "outputs": [],
   "source": [
    "x = ((1 + (2 * 3)) - (4 / (5 ** (2 ** 0))))\n",
    "print(x)\n",
    "x = 1 + 2 * (3 - 4) / 5 ** 2 ** 0\n",
    "print(x) # Note que o resultado final foi completamente diferente"
   ]
  },
  {
   "cell_type": "markdown",
   "metadata": {
    "id": "N003CCeP8o4c"
   },
   "source": [
    "A utilização de parênteses é mais utilizada quando desejamos ou precisamos alterar a ordem de precedência das operações."
   ]
  },
  {
   "cell_type": "code",
   "execution_count": null,
   "metadata": {
    "id": "Msa4j4ONBE0Q"
   },
   "outputs": [],
   "source": [
    "# média de 3 números\n",
    "media = (1 + 2 + 3) / 3\n",
    "print(media)"
   ]
  },
  {
   "cell_type": "markdown",
   "metadata": {
    "id": "L898uGN9kq28"
   },
   "source": [
    "#### Exercício 5: leia dois números inteiros, divida o primeiro pelo segundo e mostre os seguintes resultados, conforme formato abaixo.\n",
    "\n",
    "```\n",
    "Dividendo:\n",
    "Divisor:                 \n",
    "Quociente:              \n",
    "Resto:\n"
   ]
  },
  {
   "cell_type": "code",
   "execution_count": null,
   "metadata": {
    "colab": {
     "base_uri": "https://localhost:8080/"
    },
    "executionInfo": {
     "elapsed": 4712,
     "status": "ok",
     "timestamp": 1742319211243,
     "user": {
      "displayName": "Anahy Cristal Marsolin",
      "userId": "11580221437239793208"
     },
     "user_tz": 180
    },
    "id": "AGxNEnnf3e6s",
    "outputId": "16cd3f79-8762-4bd9-c2f7-b1c171114118"
   },
   "outputs": [],
   "source": [
    "# Resolução do exercício 5\n"
   ]
  },
  {
   "cell_type": "markdown",
   "metadata": {
    "id": "3Glv9BaH3fOi"
   },
   "source": [
    "####Exercício 6: leia uma temperatura em graus Fahrenheit, calcule e imprima o valor correspondente em graus Celsius."
   ]
  },
  {
   "cell_type": "code",
   "execution_count": null,
   "metadata": {
    "colab": {
     "base_uri": "https://localhost:8080/"
    },
    "executionInfo": {
     "elapsed": 3388,
     "status": "ok",
     "timestamp": 1742319821301,
     "user": {
      "displayName": "Anahy Cristal Marsolin",
      "userId": "11580221437239793208"
     },
     "user_tz": 180
    },
    "id": "4LdBneJg3hC6",
    "outputId": "f917af52-8b58-4abf-e98a-83b22dfdac20"
   },
   "outputs": [],
   "source": [
    "# Resolução do exercício 6\n"
   ]
  },
  {
   "cell_type": "markdown",
   "metadata": {
    "id": "qWgM4DO4JIta"
   },
   "source": [
    "####Exercício 7: leia um número inteiro e imprima a sua raiz cúbica (usando o operador de potenciação)."
   ]
  },
  {
   "cell_type": "code",
   "execution_count": null,
   "metadata": {
    "colab": {
     "base_uri": "https://localhost:8080/"
    },
    "executionInfo": {
     "elapsed": 2629,
     "status": "ok",
     "timestamp": 1742321559007,
     "user": {
      "displayName": "Anahy Cristal Marsolin",
      "userId": "11580221437239793208"
     },
     "user_tz": 180
    },
    "id": "PiTJuUMvj4jT",
    "outputId": "a8251ba2-0591-4f5f-e61a-e09665e2797b"
   },
   "outputs": [],
   "source": [
    "# Resolução do exercício 7\n"
   ]
  },
  {
   "cell_type": "markdown",
   "metadata": {
    "id": "uNI7S9JciodO"
   },
   "source": [
    "### Expressões Relacionais\n",
    "---"
   ]
  },
  {
   "cell_type": "markdown",
   "metadata": {
    "id": "jk0oF0Tbdqad"
   },
   "source": [
    "As **expressões relacionais** são usadas para afirmar algo sobre duas expressões algébricas, produzindo como resultado um valor do tipo booleano.\n",
    "\n",
    "*   `True`, quando o resultado da afirmação é verdadeiro\n",
    "*   `False`, quando o resultado da afirmação é falso\n",
    "\n",
    "Os operadores relacionais podem ser vistos na tabela abaixo.\n",
    "\n",
    "|Operador|Afirmação|\n",
    "|:-:|-|\n",
    "|==|Igual a|\n",
    "|!=|Diferente de|\n",
    "|>|Maior que|\n",
    "|>=|Maior ou igual a|\n",
    "|<|Menor que|\n",
    "|<=|Menor ou igual a|"
   ]
  },
  {
   "cell_type": "code",
   "execution_count": null,
   "metadata": {
    "id": "qh2WCpkeGarM"
   },
   "outputs": [],
   "source": [
    "print(\"5 é igual a 6:\", 5 == 6) # Não. Portanto, a afirmação é falsa\n",
    "\n",
    "print(\"5 é menor ou igual a 6:\", 5 <= 6) # Sim. Portanto, a afirmação é verdadeira\n",
    "\n",
    "x = 10\n",
    "print(\"10 é diferente do valor de x:\", 10 != x) # Não. Portanto, a afirmação é falsa\n",
    "\n",
    "y = -20\n",
    "print(\"y é menor que x:\", y < x) # Sim. Portanto, a afirmação é verdadeira"
   ]
  },
  {
   "cell_type": "markdown",
   "metadata": {
    "id": "WErxGwAqmRg8"
   },
   "source": [
    "#### Precedência entre operadores relacionais"
   ]
  },
  {
   "cell_type": "markdown",
   "metadata": {
    "id": "giOxGP2jmV8Q"
   },
   "source": [
    "Assim como os operadores aritméticos, existe uma ordem de precedência entre os operadores relacionais:\n",
    "1.   Operação entre parênteses\n",
    "2.   <, >, <=, >= (da esquerda para a direita)\n",
    "3.   ==, != (da esquerda para a direita)"
   ]
  },
  {
   "cell_type": "markdown",
   "metadata": {
    "id": "Wedq91j9yfot"
   },
   "source": [
    "Em termos de precedência, quando temos operadores aritméticos e operadores relacionais na mesma expressão, os aritméticos são executados primeiro.\n",
    "\n",
    "A expressão abaixo retornará um valor lógico, pois está comparando o resultado de duas expressões aritméticas:"
   ]
  },
  {
   "cell_type": "code",
   "execution_count": null,
   "metadata": {
    "id": "rQsV4JrqgZt9"
   },
   "outputs": [],
   "source": [
    "print(3 * 4 / 2 != 3 * 3)  # 6 != 9 é True"
   ]
  },
  {
   "cell_type": "markdown",
   "metadata": {
    "id": "ttZIh-wbgij-"
   },
   "source": [
    "### Expressões Lógicas\n",
    "---\n"
   ]
  },
  {
   "cell_type": "markdown",
   "metadata": {
    "id": "pWx7BC5Mgtuk"
   },
   "source": [
    "As **expressões lógicas** são afirmações sobre expressões booleanas.\n",
    "\n",
    "Expressões booleanas podem ser formadas por variáveis do tipo booleano, valores booleanos, expressões relacionais ou lógicas.\n",
    "\n",
    "Os operadores lógicos comumente utilizados são **e**, **ou** e **não**. Em Python, os representamos da seguinte forma:\n",
    "\n",
    "|Operador|Correspondência|\n",
    "|:-:|:-:|\n",
    "|`and`|e|\n",
    "|`or`|ou|\n",
    "|`not`|não|"
   ]
  },
  {
   "cell_type": "markdown",
   "metadata": {
    "id": "mCbLuA2t0E6T"
   },
   "source": [
    "expressao1 `and` expressao2 retorna `True` somente se ambas as expressões são verdeiras.\n",
    "\n",
    "Se uma ou ambas das expressões forem falsas, retorna `False`.\n",
    "\n",
    "| `expressao1` | `expressao2` | `expressao1 and expressao2` |\n",
    "|:------------:|:------------:|:---------------------------:|\n",
    "| `True`       | `True`       | `True`                      |\n",
    "| `True`       | `False`      | `False`                     |\n",
    "| `False`      | `True`       | `False`                     |\n",
    "| `False`      | `False`      | `False`                     |"
   ]
  },
  {
   "cell_type": "code",
   "execution_count": null,
   "metadata": {
    "colab": {
     "base_uri": "https://localhost:8080/"
    },
    "executionInfo": {
     "elapsed": 25,
     "status": "ok",
     "timestamp": 1742321690187,
     "user": {
      "displayName": "Anahy Cristal Marsolin",
      "userId": "11580221437239793208"
     },
     "user_tz": 180
    },
    "id": "TWSFNgVugtCF",
    "outputId": "7fd3464f-9662-4c20-e4e3-6381b29dff42"
   },
   "outputs": [],
   "source": [
    "x = 5\n",
    "y = 10\n",
    "z = -1\n",
    "print(x < y and x > z)    # True and True,   resulta em True\n",
    "print(x > y and x > z)    # False and True,  resulta em False\n",
    "print(x < y and y == z)   # True and False,  resulta em False\n",
    "print(x == y and y == z)  # False and False, resulta em False"
   ]
  },
  {
   "cell_type": "markdown",
   "metadata": {
    "id": "3lXe3bER0rfu"
   },
   "source": [
    "expressao1 `or` expressao2 retorna `True` se pelo menos uma das expressões é verdadeira.\n",
    "\n",
    "Retorna `False` somente se ambas expressões forem falsas.\n",
    "\n",
    "| `expressao1` | `expressao2` | `expressao1 or expressao2` |\n",
    "|:------------:|:------------:|:--------------------------:|\n",
    "| `True`       | `True`       | `True`                     |\n",
    "| `True`       | `False`      | `True`                     |\n",
    "| `False`      | `True`       | `True`                     |\n",
    "| `False`      | `False`      | `False`                    |"
   ]
  },
  {
   "cell_type": "code",
   "execution_count": null,
   "metadata": {
    "id": "2cOYp58Y1U_s"
   },
   "outputs": [],
   "source": [
    "x = 5\n",
    "y = 10\n",
    "z = -1\n",
    "print(x < y or x > z)    # True or True,   resulta em True\n",
    "print(x > y or x > z)    # False or True,  resulta em True\n",
    "print(x < y or y == z)   # True or False,  resulta em True\n",
    "print(x == y or y == z)  # False or False, resulta em False"
   ]
  },
  {
   "cell_type": "markdown",
   "metadata": {
    "id": "5gdScWIp1cDS"
   },
   "source": [
    "`not` expressao inverte o valor booleano da expressão.\n",
    "\n",
    "Perceba que o operador `not` é unário, ou seja, não possuí uma expressão que o precede e se aplica apenas a expressão logo a direita do operador.\n",
    "\n",
    "| `expressao` | `not expressao` |\n",
    "|:-----------:|:---------------:|\n",
    "| `True`      | `False`         |\n",
    "| `False`     | `True`          |"
   ]
  },
  {
   "cell_type": "code",
   "execution_count": null,
   "metadata": {
    "id": "tJGzeYi91mvS"
   },
   "outputs": [],
   "source": [
    "x = 5\n",
    "y = 10\n",
    "z = -1\n",
    "print(x < y)       # True\n",
    "print(not x < y)   # not True,  igual a False\n",
    "print(x == y)      # False\n",
    "print(not x == y)  # not False, igual a True"
   ]
  },
  {
   "cell_type": "markdown",
   "metadata": {
    "id": "uZbbqWB2qlmP"
   },
   "source": [
    "Vejamos mais alguns exemplos:"
   ]
  },
  {
   "cell_type": "code",
   "execution_count": null,
   "metadata": {
    "id": "XvOwh92xnEKE"
   },
   "outputs": [],
   "source": [
    "media = float(input(\"Informe a sua média final: \"))\n",
    "frequencia = float(input(\"Informe o seu percentual de frequência: \"))\n",
    "foi_aprovado = media >= 6.0 and frequencia >= 75\n",
    "print(\"Você foi aprovado?\", foi_aprovado)"
   ]
  },
  {
   "cell_type": "code",
   "execution_count": null,
   "metadata": {
    "id": "1PjSVpKgnp0i"
   },
   "outputs": [],
   "source": [
    "idade = int(input(\"Qual é a sua idade? \"))\n",
    "pode_votar = idade >= 16\n",
    "voto_nao_obrigatorio = pode_votar and idade < 18 or idade >= 70\n",
    "print(\"Pode votar:\", pode_votar)\n",
    "print(\"Pode votar, mas não tem voto obrigatório:\", voto_nao_obrigatorio)\n",
    "print(\"Não pode votar:\", not pode_votar)"
   ]
  },
  {
   "cell_type": "markdown",
   "metadata": {
    "id": "VPAhmu-tAjh3"
   },
   "source": [
    "#### Precedência entre operadores lógicos"
   ]
  },
  {
   "cell_type": "markdown",
   "metadata": {
    "id": "-ImpI6xYAsUC"
   },
   "source": [
    "A ordem de precedência entre os operadores lógicos é a seguinte:\n",
    "1.   Operação entre parênteses\n",
    "2.   not (da esquerda para a direita)\n",
    "3.   and (da esquerda para a direita)\n",
    "4.   or (da esquerda para a direita)"
   ]
  },
  {
   "cell_type": "code",
   "execution_count": null,
   "metadata": {
    "colab": {
     "base_uri": "https://localhost:8080/"
    },
    "executionInfo": {
     "elapsed": 10,
     "status": "ok",
     "timestamp": 1742322997307,
     "user": {
      "displayName": "Anahy Cristal Marsolin",
      "userId": "11580221437239793208"
     },
     "user_tz": 180
    },
    "id": "ZEIXQB6CA2HG",
    "outputId": "edadecd2-8f42-4a3a-9153-1e39d06ed981"
   },
   "outputs": [],
   "source": [
    "a = True\n",
    "b = True\n",
    "c = False\n",
    "print(a or not b and c)"
   ]
  },
  {
   "cell_type": "markdown",
   "metadata": {
    "id": "IZh-oTCBA3Eq"
   },
   "source": [
    "### Precedência entre diferentes tipos de operadores\n",
    "---\n",
    "\n",
    "A ordem de precedência entre os diferentes tipos de operadores é a seguinte:\n",
    "\n",
    "1.   Parênteses mais internos\n",
    "2.   Operadores aritméticos (1° `**`, 2° `*`, `/`, `%`, `//`, 3° `+`, `-`)\n",
    "3.   Operadores relacionais (1° `<`, `>`, `<=`, `>=`, 2° `==`, `!=`)\n",
    "4.   Operadores lógicos (1° `not`, 2° `and`, 3° `or`)\n",
    "5.   Operador de atribuição (`=`)"
   ]
  },
  {
   "cell_type": "markdown",
   "metadata": {
    "id": "-zzF6DRwZHuY"
   },
   "source": [
    "### Exercício 8: observe o exemplo abaixo e defina a ordem de avaliação dos operadores no código seguinte.\n",
    "\n",
    "```python\n",
    "x = 1\n",
    "y = 2\n",
    "resultado = x > 0 or not x == y and x + y == 5\n",
    "# Substituíndo variáveis na expressão\n",
    "# 1 > 0 or not 1 == 2 and 1 + 2 == 5\n",
    "\n",
    "# Avaliando operadores aritméticos\n",
    "# 1 + 2 = 3\n",
    "# 1 > 0 or not 1 == 2 and 3 == 5\n",
    "\n",
    "# Avaliando operadores relacionais\n",
    "# 1 > 0 = True\n",
    "# True or not 1 == 2 and 3 == 5\n",
    "\n",
    "# 1 == 2 = False\n",
    "# True or not False and 3 == 5\n",
    "\n",
    "# 3 == 5 = False\n",
    "# True or not False and False\n",
    "\n",
    "# not False = True\n",
    "# True or True and False\n",
    "\n",
    "# True and False = False\n",
    "# True or False = True\n",
    "# O resultado final da expressão é True\n",
    "```"
   ]
  },
  {
   "cell_type": "code",
   "execution_count": 37,
   "metadata": {
    "id": "m9CZ6KRtFa_J"
   },
   "outputs": [],
   "source": [
    "# Resolução do exercício 8\n"
   ]
  },
  {
   "cell_type": "markdown",
   "metadata": {
    "id": "4TO_w4PmZDVz"
   },
   "source": [
    "# Atividades Extra Classe\n",
    "---"
   ]
  },
  {
   "cell_type": "markdown",
   "metadata": {
    "id": "2OW0k9KJPv8O"
   },
   "source": [
    "### Atividade 1\n",
    "Use a função `input()` para ler de um usuário as informações de um produto adquirido. Crie uma variável para armazenar o nome do produto, outra para o valor unitário (converta para o tipo float) e mais uma para a quantidade adquirida (converta para o tipo int). Compute o valor total da compra e depois use apenas uma chamada da função `print()` para imprimir os dados conforme o exemplo de saída abaixo (os números reais devem ser formatados para apresentarem 2 casas decimais).\n",
    "```python\n",
    "O nome do produto adquirido é tenis, o seu valor unitário é R$499.90 e foram adquiridas 2 unidades, totalizando uma compra de R$999.80.\n",
    "```"
   ]
  },
  {
   "cell_type": "code",
   "execution_count": null,
   "metadata": {
    "colab": {
     "base_uri": "https://localhost:8080/"
    },
    "executionInfo": {
     "elapsed": 9605,
     "status": "ok",
     "timestamp": 1742323701287,
     "user": {
      "displayName": "Anahy Cristal Marsolin",
      "userId": "11580221437239793208"
     },
     "user_tz": 180
    },
    "id": "BfVV8Vv3QJK_",
    "outputId": "4e90c9e2-fe2a-4016-f44f-57bca4a2bc46"
   },
   "outputs": [],
   "source": [
    "# Resolução da atividade 1\n",
    "\n"
   ]
  },
  {
   "cell_type": "markdown",
   "metadata": {
    "id": "00dLT4ENkvzK"
   },
   "source": [
    "###Atividade 2 (crédito ao Angemydelson Saint-Bert)\n",
    "\n",
    "Em épocas de pouco dinheiro, os comerciantes estão procurando aumentar suas\n",
    "vendas oferecendo desconto.\n",
    "\n",
    "Faça um algoritmo que recebe o valor de uma venda através de uma entrada do usuário e, que  compute e imprima o valor a ser pago em reais tendo em vista que o desconto dado ao cliente foi de 9%."
   ]
  },
  {
   "cell_type": "code",
   "execution_count": null,
   "metadata": {
    "colab": {
     "base_uri": "https://localhost:8080/"
    },
    "executionInfo": {
     "elapsed": 2209,
     "status": "ok",
     "timestamp": 1742323968740,
     "user": {
      "displayName": "Anahy Cristal Marsolin",
      "userId": "11580221437239793208"
     },
     "user_tz": 180
    },
    "id": "h2Zch2iKkyq4",
    "outputId": "747d7953-8bc8-4718-f7fb-aabe63413011"
   },
   "outputs": [],
   "source": [
    "# Resolução da atividade 2\n",
    "\n"
   ]
  },
  {
   "cell_type": "markdown",
   "metadata": {
    "id": "uCr0Rjp4P0hN"
   },
   "source": [
    "### Atividade 3 (crédito ao Igor Bazei)\n",
    "\n",
    "Corrija os problemas de sintaxe do código abaixo e melhore o nome das variáveis para nomes mais significativos.\n",
    "\n",
    "```python\n",
    "$num = input(\"Digite o número a ser dividido: \")\n",
    "num2 = int(input(\"Digite um número diferente de 0: \")\n",
    "x = %num / Num2\n",
    "print(\"O resultado da divisão de {$num} por {num2} é: {y}\")\n",
    "```"
   ]
  },
  {
   "cell_type": "code",
   "execution_count": null,
   "metadata": {
    "colab": {
     "base_uri": "https://localhost:8080/"
    },
    "executionInfo": {
     "elapsed": 3499,
     "status": "ok",
     "timestamp": 1742350196900,
     "user": {
      "displayName": "Anahy Cristal Marsolin",
      "userId": "11580221437239793208"
     },
     "user_tz": 180
    },
    "id": "bIDkrr9uRl0P",
    "outputId": "3dca2c87-ade3-4e97-e339-e346f8f4a9d9"
   },
   "outputs": [],
   "source": [
    "# Resolução da atividade 3\n",
    "\n"
   ]
  },
  {
   "cell_type": "markdown",
   "metadata": {
    "id": "6YQ2bMyaa8Aw"
   },
   "source": [
    "### Atividade 4\n",
    "\n",
    "Faça um programa que solicite o custo de produção de uma mercadoria e um valor percentual de lucro que será acrescido ao valor do produto para a venda.\n",
    "\n",
    "Imprimira o valor final do produto (valor de venda) com duas casas decimais."
   ]
  },
  {
   "cell_type": "code",
   "execution_count": null,
   "metadata": {
    "colab": {
     "base_uri": "https://localhost:8080/"
    },
    "executionInfo": {
     "elapsed": 4385,
     "status": "ok",
     "timestamp": 1742351238366,
     "user": {
      "displayName": "Anahy Cristal Marsolin",
      "userId": "11580221437239793208"
     },
     "user_tz": 180
    },
    "id": "Uy_HlIm9bLK1",
    "outputId": "c8cdf55b-de8a-4b04-d7c7-bf0926cdf5d2"
   },
   "outputs": [],
   "source": [
    "# Resolução da atividade 4\n"
   ]
  },
  {
   "cell_type": "markdown",
   "metadata": {
    "id": "DwDJ2PVOFjfk"
   },
   "source": [
    "### Atividade 5\n",
    "\n",
    "#### Adapte o programa anterior e para que ele também compute e imprima o valor máximo de desconto (em percentual) que a loja pode aplicar na mercadoria para que não tenha prejuízo na venda.\n",
    "\n",
    "O valor final do produto, após desconto, deve ser maior ou igual ao custo de produção para que a empresa não tenha prejuízo na venda."
   ]
  },
  {
   "cell_type": "code",
   "execution_count": null,
   "metadata": {
    "colab": {
     "base_uri": "https://localhost:8080/"
    },
    "executionInfo": {
     "elapsed": 14,
     "status": "ok",
     "timestamp": 1742353212793,
     "user": {
      "displayName": "Anahy Cristal Marsolin",
      "userId": "11580221437239793208"
     },
     "user_tz": 180
    },
    "id": "DpQjaqU1FoNq",
    "outputId": "f15143e8-acb6-4b6e-af30-9f7d4b618dc6"
   },
   "outputs": [],
   "source": [
    "# Resolução da atividade 5\n"
   ]
  },
  {
   "cell_type": "markdown",
   "metadata": {
    "id": "mrlliG-BmCiq"
   },
   "source": [
    "### Atividade 6 (crédito ao Angemydelson Saint-Bert)\n",
    "\n",
    "Leia quatro números e imprima a média ponderada desses números, sabendo-se que os pesos são respectivamente: 1, 2, 3 e 4."
   ]
  },
  {
   "cell_type": "code",
   "execution_count": 43,
   "metadata": {
    "id": "Cnkakcsmm5UT"
   },
   "outputs": [],
   "source": [
    "# Resolução da atividade 6\n"
   ]
  },
  {
   "cell_type": "markdown",
   "metadata": {
    "id": "Qf89fmeRpeW7"
   },
   "source": [
    "### Atividade 7 (crédito ao Igor Bazei)\n",
    "\n",
    "Faça um programa que leia um número inteiro e exiba `True` caso o número for um resultado possível da inequação abaixo e `False` caso contrário.\n",
    "\n",
    "Inequação: 3 * `número` - 12 > 19"
   ]
  },
  {
   "cell_type": "code",
   "execution_count": null,
   "metadata": {
    "colab": {
     "base_uri": "https://localhost:8080/"
    },
    "executionInfo": {
     "elapsed": 12576,
     "status": "ok",
     "timestamp": 1742429389867,
     "user": {
      "displayName": "Anahy Cristal Marsolin",
      "userId": "11580221437239793208"
     },
     "user_tz": 180
    },
    "id": "pR3WFV9oqfRk",
    "outputId": "1ff5a98e-f4f5-4c2b-b420-c79b2fae679c"
   },
   "outputs": [],
   "source": [
    "# Resolução da atividade 7\n"
   ]
  },
  {
   "cell_type": "markdown",
   "metadata": {
    "id": "sz7rMa3FrxzY"
   },
   "source": [
    "###Atividade 8\n",
    "\n",
    "Faça um programa que leia um número inteiro e exiba `True` se este número é múltiplo de 4 e de 3 simultaneamente, ou `False` caso contrário."
   ]
  },
  {
   "cell_type": "code",
   "execution_count": null,
   "metadata": {
    "colab": {
     "base_uri": "https://localhost:8080/"
    },
    "executionInfo": {
     "elapsed": 2177,
     "status": "ok",
     "timestamp": 1742429779434,
     "user": {
      "displayName": "Anahy Cristal Marsolin",
      "userId": "11580221437239793208"
     },
     "user_tz": 180
    },
    "id": "78FTdLTfrvyx",
    "outputId": "b4d544c5-43fd-400d-d928-7ddd3f297ef7"
   },
   "outputs": [],
   "source": [
    "# Resolução da atividade 8\n",
    "\n"
   ]
  },
  {
   "cell_type": "markdown",
   "metadata": {
    "id": "UYvUlcJHS-dU"
   },
   "source": [
    "### Atividade 9\n",
    "\n",
    "Faça um programa que compute as raízes da equação dada por ax² + bx + c = 0 sendo que a = 2, b = 14 e c = -60"
   ]
  },
  {
   "cell_type": "code",
   "execution_count": 15,
   "metadata": {
    "executionInfo": {
     "elapsed": 8,
     "status": "ok",
     "timestamp": 1742430936763,
     "user": {
      "displayName": "Anahy Cristal Marsolin",
      "userId": "11580221437239793208"
     },
     "user_tz": 180
    },
    "id": "quq-aOd0S97G"
   },
   "outputs": [],
   "source": []
  },
  {
   "cell_type": "code",
   "execution_count": null,
   "metadata": {
    "id": "WKoCk1qS8_nB"
   },
   "outputs": [],
   "source": []
  }
 ],
 "metadata": {
  "colab": {
   "provenance": []
  },
  "kernelspec": {
   "display_name": "Python 3",
   "name": "python3"
  },
  "language_info": {
   "codemirror_mode": {
    "name": "ipython",
    "version": 3
   },
   "file_extension": ".py",
   "mimetype": "text/x-python",
   "name": "python",
   "nbconvert_exporter": "python",
   "pygments_lexer": "ipython3",
   "version": "3.11.0"
  }
 },
 "nbformat": 4,
 "nbformat_minor": 0
}
