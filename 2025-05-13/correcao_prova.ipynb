{
 "cells": [
  {
   "cell_type": "markdown",
   "metadata": {},
   "source": [
    "# salvar como .ipynb"
   ]
  },
  {
   "cell_type": "code",
   "execution_count": 19,
   "metadata": {},
   "outputs": [
    {
     "name": "stdout",
     "output_type": "stream",
     "text": [
      "Olá \n",
      ",bom dia outro texto \u001b[94m\n",
      "Olá  bom dia  outro texto\n"
     ]
    }
   ],
   "source": [
    "var_1 = 'bom dia'\n",
    "\n",
    "print(f'Olá \\n,{var_1} outro texto \\033[94m'  )\n",
    "print('Olá ',var_1, ' outro texto')"
   ]
  },
  {
   "cell_type": "code",
   "execution_count": 21,
   "metadata": {},
   "outputs": [
    {
     "name": "stdout",
     "output_type": "stream",
     "text": [
      "\u001b[0m Aprovado. \n"
     ]
    }
   ],
   "source": [
    "media = 6\n",
    "nota = 6\n",
    "print('\\033[0m Aprovado. ' if nota>= media else '\\033[93m Reprovado. ')\n"
   ]
  },
  {
   "cell_type": "code",
   "execution_count": null,
   "metadata": {},
   "outputs": [],
   "source": []
  }
 ],
 "metadata": {
  "kernelspec": {
   "display_name": "venv",
   "language": "python",
   "name": "python3"
  },
  "language_info": {
   "codemirror_mode": {
    "name": "ipython",
    "version": 3
   },
   "file_extension": ".py",
   "mimetype": "text/x-python",
   "name": "python",
   "nbconvert_exporter": "python",
   "pygments_lexer": "ipython3",
   "version": "3.10.12"
  }
 },
 "nbformat": 4,
 "nbformat_minor": 2
}
